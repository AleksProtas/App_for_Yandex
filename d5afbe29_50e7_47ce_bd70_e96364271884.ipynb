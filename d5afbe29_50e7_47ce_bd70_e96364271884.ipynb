{
  "cells": [
    {
      "cell_type": "markdown",
      "metadata": {
        "id": "pUQNS-2ZSZSw"
      },
      "source": [
        "### **Описание проекта**"
      ]
    },
    {
      "cell_type": "markdown",
      "metadata": {
        "id": "RUHLtHH-SxMO"
      },
      "source": [
        "**Описание проекта**\n",
        "\n",
        "Я работаю в стартапе, который продаёт продукты питания. Нужно разобраться, как ведут себя пользователи нашего мобильного приложения.\n",
        "\n",
        "Изучим воронку продаж. Узнаем, как пользователи доходят до покупки. Сколько пользователей доходит до покупки, а сколько — «застревает» на предыдущих шагах? На каких именно?\n",
        "\n",
        "После этого исследуем результаты A/A/B-эксперимента. Дизайнеры захотели поменять шрифты во всём приложении, а менеджеры испугались, что пользователям будет непривычно. Договорились принять решение по результатам A/A/B-теста. Пользователей разбили на 3 группы: 2 контрольные со старыми шрифтами и одну экспериментальную — с новыми. Выясним, какой шрифт лучше.\n",
        "\n",
        "Создание двух групп A вместо одной имеет определённые преимущества. Если две контрольные группы окажутся равны, мы можем быть уверены в точности проведенного тестирования. Если же между значениями A и A будут существенные различия, это поможет обнаружить факторы, которые привели к искажению результатов. Сравнение контрольных групп также помогает понять, сколько времени и данных потребуется для дальнейших тестов.\n",
        "\n",
        "В случае общей аналитики и A/A/B-эксперимента будем работать с одними и теми же данными. В реальных проектах всегда идут эксперименты. Аналитики исследуют качество работы приложения по общим данным, не учитывая принадлежность пользователей к экспериментам."
      ]
    },
    {
      "cell_type": "markdown",
      "metadata": {
        "id": "eEGv2oS1SyQw"
      },
      "source": [
        "### **Подготовка к работе**"
      ]
    },
    {
      "cell_type": "markdown",
      "metadata": {
        "id": "w7wxOD6eS5OS"
      },
      "source": [
        "Подключим гугл-диск\n",
        "\n",
        "Я выполняю проект в гугл-колаб, поэтому сперва установим соединение с гугл-диском. Код закроем в try-except для исключения конфликта при ревью."
      ]
    },
    {
      "cell_type": "code",
      "execution_count": null,
      "metadata": {
        "colab": {
          "base_uri": "https://localhost:8080/"
        },
        "id": "gqVdVOUYTC0b",
        "outputId": "227ec97e-3d83-439f-b8e2-8af150f7c720"
      },
      "outputs": [
        {
          "output_type": "stream",
          "name": "stdout",
          "text": [
            "Mounted at /content/drive\n"
          ]
        }
      ],
      "source": [
        "try:\n",
        "  from google.colab import drive\n",
        "  drive.mount('/content/drive')\n",
        "except:\n",
        "  print('Подключение к google-drive не выполнено. Вы просматриваете проект в другой среде. Код запущен далее.')"
      ]
    },
    {
      "cell_type": "code",
      "source": [
        "from google.colab import drive\n",
        "drive.mount('/content/drive')"
      ],
      "metadata": {
        "id": "3pNo0vjysGhi"
      },
      "execution_count": null,
      "outputs": []
    },
    {
      "cell_type": "markdown",
      "metadata": {
        "id": "U2qbt8XBTXhJ"
      },
      "source": [
        "Загрузка библиотек для работы"
      ]
    },
    {
      "cell_type": "code",
      "execution_count": null,
      "metadata": {
        "id": "h2N1MuvhTZ9J"
      },
      "outputs": [],
      "source": [
        "# colab часто выдаёт предупреждения - скроем их\n",
        "import warnings\n",
        "warnings.filterwarnings(\"ignore\")\n",
        "# загрузим библиотеки: сперва основную для работы\n",
        "import pandas as pd\n",
        "# для \"красоты\" (графики и оформление)\n",
        "import matplotlib.pyplot as plt\n",
        "from pandas.plotting import register_matplotlib_converters\n",
        "# конвертеры, которые позволяют использовать типы pandas в matplotlib  \n",
        "register_matplotlib_converters()\n",
        "import seaborn as sns\n",
        "import plotly.express as px\n",
        "from plotly import graph_objects as go\n",
        "# для математических и статистических операций\n",
        "import numpy as np\n",
        "import math as mth\n",
        "import scipy.stats\n",
        "from scipy import stats as st\n",
        "# также загрузим os для создания двойного пути к базе данных\n",
        "import os"
      ]
    },
    {
      "cell_type": "markdown",
      "metadata": {
        "id": "9ah70sHXVEuh"
      },
      "source": [
        "Заранее зададим общий стиль своим графикам и диаграммам:"
      ]
    },
    {
      "cell_type": "code",
      "execution_count": null,
      "metadata": {
        "id": "p-aJIIgQVFv5"
      },
      "outputs": [],
      "source": [
        "large = 16; med = 12; small = 10\n",
        "params = {'axes.titlesize': large,\n",
        "          'legend.fontsize': med,\n",
        "          'figure.figsize': (12, 8),\n",
        "          'axes.labelsize': med,\n",
        "          'axes.titlesize': med,\n",
        "          'xtick.labelsize': med,\n",
        "          'ytick.labelsize': med,\n",
        "          'figure.titlesize': large}\n",
        "plt.rcParams.update(params)\n",
        "plt.style.use('seaborn-whitegrid')\n",
        "# на мой взгляд лучше всего подходит палитра deep\n",
        "# она не пёстрая, относительно контрастная\n",
        "# однако в реальном заказе я предпочёл бы принятые у заказчика цвета для подобной работы\n",
        "sns.set_palette('deep') \n",
        "sns.set_style(\"whitegrid\")"
      ]
    },
    {
      "cell_type": "markdown",
      "metadata": {
        "id": "krKFLgKZVZZ6"
      },
      "source": [
        "### **Ознакомление с данными**"
      ]
    },
    {
      "cell_type": "markdown",
      "metadata": {
        "id": "Exs_5ukcVjap"
      },
      "source": [
        "*Откройте файл с данными и изучите общую информацию*\n",
        "\n",
        "Загрузка базы данных. Используем двойной путь к базе данных (с моего гугл-диска и с хранилища практикума), чтобы исключить ошибку при ревью."
      ]
    },
    {
      "cell_type": "code",
      "execution_count": null,
      "metadata": {
        "id": "nWrHRGTFVzZ6"
      },
      "outputs": [],
      "source": [
        "pth1 = '/content/drive/MyDrive/Colab Notebooks/Яндекс_практикум/Сборный_проект_2/logs_exp.csv'\n",
        "pth2 = '/datasets/logs_exp.csv'\n",
        "if os.path.exists(pth1):\n",
        "  df = pd.read_csv(pth1, delimiter='\\t')\n",
        "elif os.path.exists(pth2):\n",
        "  df = pd.read_csv(pth2, delimiter='\\t')\n",
        "else:\n",
        "  print('Проверьте правильность пути к датасету')"
      ]
    },
    {
      "cell_type": "markdown",
      "metadata": {
        "id": "ZdjNjoVQWyBq"
      },
      "source": [
        "Ознакомимся с данными:\n",
        "\n",
        "1.   посмотрим \"шапку\" таблицы и выпишем значения столбцов\n",
        "2.   проверим общие данные методом info()\n",
        "3.   проверим пропуски\n",
        "4.   проверим дубликаты"
      ]
    },
    {
      "cell_type": "code",
      "execution_count": null,
      "metadata": {
        "colab": {
          "base_uri": "https://localhost:8080/"
        },
        "id": "uNMVTEk2W7st",
        "outputId": "e8263955-f031-45fe-fdb4-2c01f9dc749f"
      },
      "outputs": [
        {
          "output_type": "execute_result",
          "data": {
            "text/plain": [
              "                 EventName         DeviceIDHash  EventTimestamp  ExpId\n",
              "0         MainScreenAppear  4575588528974610257      1564029816    246\n",
              "1         MainScreenAppear  7416695313311560658      1564053102    246\n",
              "2  PaymentScreenSuccessful  3518123091307005509      1564054127    248"
            ],
            "text/html": [
              "\n",
              "  <div id=\"df-593418bc-8fa9-4512-8074-f0f00922c7ef\">\n",
              "    <div class=\"colab-df-container\">\n",
              "      <div>\n",
              "<style scoped>\n",
              "    .dataframe tbody tr th:only-of-type {\n",
              "        vertical-align: middle;\n",
              "    }\n",
              "\n",
              "    .dataframe tbody tr th {\n",
              "        vertical-align: top;\n",
              "    }\n",
              "\n",
              "    .dataframe thead th {\n",
              "        text-align: right;\n",
              "    }\n",
              "</style>\n",
              "<table border=\"1\" class=\"dataframe\">\n",
              "  <thead>\n",
              "    <tr style=\"text-align: right;\">\n",
              "      <th></th>\n",
              "      <th>EventName</th>\n",
              "      <th>DeviceIDHash</th>\n",
              "      <th>EventTimestamp</th>\n",
              "      <th>ExpId</th>\n",
              "    </tr>\n",
              "  </thead>\n",
              "  <tbody>\n",
              "    <tr>\n",
              "      <th>0</th>\n",
              "      <td>MainScreenAppear</td>\n",
              "      <td>4575588528974610257</td>\n",
              "      <td>1564029816</td>\n",
              "      <td>246</td>\n",
              "    </tr>\n",
              "    <tr>\n",
              "      <th>1</th>\n",
              "      <td>MainScreenAppear</td>\n",
              "      <td>7416695313311560658</td>\n",
              "      <td>1564053102</td>\n",
              "      <td>246</td>\n",
              "    </tr>\n",
              "    <tr>\n",
              "      <th>2</th>\n",
              "      <td>PaymentScreenSuccessful</td>\n",
              "      <td>3518123091307005509</td>\n",
              "      <td>1564054127</td>\n",
              "      <td>248</td>\n",
              "    </tr>\n",
              "  </tbody>\n",
              "</table>\n",
              "</div>\n",
              "      <button class=\"colab-df-convert\" onclick=\"convertToInteractive('df-593418bc-8fa9-4512-8074-f0f00922c7ef')\"\n",
              "              title=\"Convert this dataframe to an interactive table.\"\n",
              "              style=\"display:none;\">\n",
              "        \n",
              "  <svg xmlns=\"http://www.w3.org/2000/svg\" height=\"24px\"viewBox=\"0 0 24 24\"\n",
              "       width=\"24px\">\n",
              "    <path d=\"M0 0h24v24H0V0z\" fill=\"none\"/>\n",
              "    <path d=\"M18.56 5.44l.94 2.06.94-2.06 2.06-.94-2.06-.94-.94-2.06-.94 2.06-2.06.94zm-11 1L8.5 8.5l.94-2.06 2.06-.94-2.06-.94L8.5 2.5l-.94 2.06-2.06.94zm10 10l.94 2.06.94-2.06 2.06-.94-2.06-.94-.94-2.06-.94 2.06-2.06.94z\"/><path d=\"M17.41 7.96l-1.37-1.37c-.4-.4-.92-.59-1.43-.59-.52 0-1.04.2-1.43.59L10.3 9.45l-7.72 7.72c-.78.78-.78 2.05 0 2.83L4 21.41c.39.39.9.59 1.41.59.51 0 1.02-.2 1.41-.59l7.78-7.78 2.81-2.81c.8-.78.8-2.07 0-2.86zM5.41 20L4 18.59l7.72-7.72 1.47 1.35L5.41 20z\"/>\n",
              "  </svg>\n",
              "      </button>\n",
              "      \n",
              "  <style>\n",
              "    .colab-df-container {\n",
              "      display:flex;\n",
              "      flex-wrap:wrap;\n",
              "      gap: 12px;\n",
              "    }\n",
              "\n",
              "    .colab-df-convert {\n",
              "      background-color: #E8F0FE;\n",
              "      border: none;\n",
              "      border-radius: 50%;\n",
              "      cursor: pointer;\n",
              "      display: none;\n",
              "      fill: #1967D2;\n",
              "      height: 32px;\n",
              "      padding: 0 0 0 0;\n",
              "      width: 32px;\n",
              "    }\n",
              "\n",
              "    .colab-df-convert:hover {\n",
              "      background-color: #E2EBFA;\n",
              "      box-shadow: 0px 1px 2px rgba(60, 64, 67, 0.3), 0px 1px 3px 1px rgba(60, 64, 67, 0.15);\n",
              "      fill: #174EA6;\n",
              "    }\n",
              "\n",
              "    [theme=dark] .colab-df-convert {\n",
              "      background-color: #3B4455;\n",
              "      fill: #D2E3FC;\n",
              "    }\n",
              "\n",
              "    [theme=dark] .colab-df-convert:hover {\n",
              "      background-color: #434B5C;\n",
              "      box-shadow: 0px 1px 3px 1px rgba(0, 0, 0, 0.15);\n",
              "      filter: drop-shadow(0px 1px 2px rgba(0, 0, 0, 0.3));\n",
              "      fill: #FFFFFF;\n",
              "    }\n",
              "  </style>\n",
              "\n",
              "      <script>\n",
              "        const buttonEl =\n",
              "          document.querySelector('#df-593418bc-8fa9-4512-8074-f0f00922c7ef button.colab-df-convert');\n",
              "        buttonEl.style.display =\n",
              "          google.colab.kernel.accessAllowed ? 'block' : 'none';\n",
              "\n",
              "        async function convertToInteractive(key) {\n",
              "          const element = document.querySelector('#df-593418bc-8fa9-4512-8074-f0f00922c7ef');\n",
              "          const dataTable =\n",
              "            await google.colab.kernel.invokeFunction('convertToInteractive',\n",
              "                                                     [key], {});\n",
              "          if (!dataTable) return;\n",
              "\n",
              "          const docLinkHtml = 'Like what you see? Visit the ' +\n",
              "            '<a target=\"_blank\" href=https://colab.research.google.com/notebooks/data_table.ipynb>data table notebook</a>'\n",
              "            + ' to learn more about interactive tables.';\n",
              "          element.innerHTML = '';\n",
              "          dataTable['output_type'] = 'display_data';\n",
              "          await google.colab.output.renderOutput(dataTable, element);\n",
              "          const docLink = document.createElement('div');\n",
              "          docLink.innerHTML = docLinkHtml;\n",
              "          element.appendChild(docLink);\n",
              "        }\n",
              "      </script>\n",
              "    </div>\n",
              "  </div>\n",
              "  "
            ]
          },
          "metadata": {},
          "execution_count": 5
        }
      ],
      "source": [
        "df.head(3)"
      ]
    },
    {
      "cell_type": "markdown",
      "metadata": {
        "id": "gr7leA6rW_BB"
      },
      "source": [
        "Описание данных:\n",
        "*   EventName — название события\n",
        "*   DeviceIDHash — уникальный идентификатор пользователя\n",
        "*   EventTimestamp — время события\n",
        "*   ExpId — номер эксперимента: 246 и 247 — контрольные группы, а 248 — экспериментальная."
      ]
    },
    {
      "cell_type": "code",
      "execution_count": null,
      "metadata": {
        "colab": {
          "base_uri": "https://localhost:8080/"
        },
        "id": "PBEVtx4RXRTJ",
        "outputId": "1558d060-aefd-4b4f-ed0b-d2addf4ad00a"
      },
      "outputs": [
        {
          "output_type": "stream",
          "name": "stdout",
          "text": [
            "<class 'pandas.core.frame.DataFrame'>\n",
            "RangeIndex: 244126 entries, 0 to 244125\n",
            "Data columns (total 4 columns):\n",
            " #   Column          Non-Null Count   Dtype \n",
            "---  ------          --------------   ----- \n",
            " 0   EventName       244126 non-null  object\n",
            " 1   DeviceIDHash    244126 non-null  int64 \n",
            " 2   EventTimestamp  244126 non-null  int64 \n",
            " 3   ExpId           244126 non-null  int64 \n",
            "dtypes: int64(3), object(1)\n",
            "memory usage: 7.5+ MB\n"
          ]
        }
      ],
      "source": [
        "df.info()"
      ]
    },
    {
      "cell_type": "code",
      "execution_count": null,
      "metadata": {
        "colab": {
          "base_uri": "https://localhost:8080/"
        },
        "id": "xEdoMpcqXQVC",
        "outputId": "27bfc73d-87cc-44ba-a82b-45468437795f"
      },
      "outputs": [
        {
          "output_type": "execute_result",
          "data": {
            "text/plain": [
              "EventName         0\n",
              "DeviceIDHash      0\n",
              "EventTimestamp    0\n",
              "ExpId             0\n",
              "dtype: int64"
            ]
          },
          "metadata": {},
          "execution_count": 7
        }
      ],
      "source": [
        "df.isna().sum()"
      ]
    },
    {
      "cell_type": "code",
      "execution_count": null,
      "metadata": {
        "colab": {
          "base_uri": "https://localhost:8080/"
        },
        "id": "InThiQ_yXYnK",
        "outputId": "bdb2a86e-eed1-4b6c-d9aa-80e50cacacfd"
      },
      "outputs": [
        {
          "output_type": "execute_result",
          "data": {
            "text/plain": [
              "413"
            ]
          },
          "metadata": {},
          "execution_count": 8
        }
      ],
      "source": [
        "df.duplicated().sum()"
      ]
    },
    {
      "cell_type": "markdown",
      "metadata": {
        "id": "tdiWg4d6X9uj"
      },
      "source": [
        "ИТОГО:\n",
        "\n",
        "*   колонки имеют стилистические ошибки - исправим их для удобства работы\n",
        "*   колонка времени в неподходящем формате\n",
        "*   имеются полные дубликаты\n",
        "\n"
      ]
    },
    {
      "cell_type": "markdown",
      "metadata": {
        "id": "e1z-3MuxYJby"
      },
      "source": [
        "### **Предобработка**"
      ]
    },
    {
      "cell_type": "markdown",
      "metadata": {
        "id": "Q7gBxaJ6e9mI"
      },
      "source": [
        "*Подготовьте данные:*\n",
        "\n",
        "*   *Замените названия столбцов на удобные для вас*\n",
        "*   *Проверьте пропуски и типы данных. Откорректируйте, если нужно*\n",
        "*   *Добавьте столбец даты и времени, а также отдельный столбец дат*"
      ]
    },
    {
      "cell_type": "markdown",
      "metadata": {
        "id": "maPILtMkYOZ4"
      },
      "source": [
        "**Переименуем столбцы в стилистически правильные**"
      ]
    },
    {
      "cell_type": "code",
      "execution_count": null,
      "metadata": {
        "colab": {
          "base_uri": "https://localhost:8080/"
        },
        "id": "PVgsR1fPYfQ6",
        "outputId": "6204fc03-2592-47d8-e608-5d3905b50953"
      },
      "outputs": [
        {
          "output_type": "execute_result",
          "data": {
            "text/plain": [
              "                event_name              user_id  event_timestamp  exp_id\n",
              "0         MainScreenAppear  4575588528974610257       1564029816     246\n",
              "1         MainScreenAppear  7416695313311560658       1564053102     246\n",
              "2  PaymentScreenSuccessful  3518123091307005509       1564054127     248"
            ],
            "text/html": [
              "\n",
              "  <div id=\"df-8317801d-4af4-42c4-abb6-1606e994a7a0\">\n",
              "    <div class=\"colab-df-container\">\n",
              "      <div>\n",
              "<style scoped>\n",
              "    .dataframe tbody tr th:only-of-type {\n",
              "        vertical-align: middle;\n",
              "    }\n",
              "\n",
              "    .dataframe tbody tr th {\n",
              "        vertical-align: top;\n",
              "    }\n",
              "\n",
              "    .dataframe thead th {\n",
              "        text-align: right;\n",
              "    }\n",
              "</style>\n",
              "<table border=\"1\" class=\"dataframe\">\n",
              "  <thead>\n",
              "    <tr style=\"text-align: right;\">\n",
              "      <th></th>\n",
              "      <th>event_name</th>\n",
              "      <th>user_id</th>\n",
              "      <th>event_timestamp</th>\n",
              "      <th>exp_id</th>\n",
              "    </tr>\n",
              "  </thead>\n",
              "  <tbody>\n",
              "    <tr>\n",
              "      <th>0</th>\n",
              "      <td>MainScreenAppear</td>\n",
              "      <td>4575588528974610257</td>\n",
              "      <td>1564029816</td>\n",
              "      <td>246</td>\n",
              "    </tr>\n",
              "    <tr>\n",
              "      <th>1</th>\n",
              "      <td>MainScreenAppear</td>\n",
              "      <td>7416695313311560658</td>\n",
              "      <td>1564053102</td>\n",
              "      <td>246</td>\n",
              "    </tr>\n",
              "    <tr>\n",
              "      <th>2</th>\n",
              "      <td>PaymentScreenSuccessful</td>\n",
              "      <td>3518123091307005509</td>\n",
              "      <td>1564054127</td>\n",
              "      <td>248</td>\n",
              "    </tr>\n",
              "  </tbody>\n",
              "</table>\n",
              "</div>\n",
              "      <button class=\"colab-df-convert\" onclick=\"convertToInteractive('df-8317801d-4af4-42c4-abb6-1606e994a7a0')\"\n",
              "              title=\"Convert this dataframe to an interactive table.\"\n",
              "              style=\"display:none;\">\n",
              "        \n",
              "  <svg xmlns=\"http://www.w3.org/2000/svg\" height=\"24px\"viewBox=\"0 0 24 24\"\n",
              "       width=\"24px\">\n",
              "    <path d=\"M0 0h24v24H0V0z\" fill=\"none\"/>\n",
              "    <path d=\"M18.56 5.44l.94 2.06.94-2.06 2.06-.94-2.06-.94-.94-2.06-.94 2.06-2.06.94zm-11 1L8.5 8.5l.94-2.06 2.06-.94-2.06-.94L8.5 2.5l-.94 2.06-2.06.94zm10 10l.94 2.06.94-2.06 2.06-.94-2.06-.94-.94-2.06-.94 2.06-2.06.94z\"/><path d=\"M17.41 7.96l-1.37-1.37c-.4-.4-.92-.59-1.43-.59-.52 0-1.04.2-1.43.59L10.3 9.45l-7.72 7.72c-.78.78-.78 2.05 0 2.83L4 21.41c.39.39.9.59 1.41.59.51 0 1.02-.2 1.41-.59l7.78-7.78 2.81-2.81c.8-.78.8-2.07 0-2.86zM5.41 20L4 18.59l7.72-7.72 1.47 1.35L5.41 20z\"/>\n",
              "  </svg>\n",
              "      </button>\n",
              "      \n",
              "  <style>\n",
              "    .colab-df-container {\n",
              "      display:flex;\n",
              "      flex-wrap:wrap;\n",
              "      gap: 12px;\n",
              "    }\n",
              "\n",
              "    .colab-df-convert {\n",
              "      background-color: #E8F0FE;\n",
              "      border: none;\n",
              "      border-radius: 50%;\n",
              "      cursor: pointer;\n",
              "      display: none;\n",
              "      fill: #1967D2;\n",
              "      height: 32px;\n",
              "      padding: 0 0 0 0;\n",
              "      width: 32px;\n",
              "    }\n",
              "\n",
              "    .colab-df-convert:hover {\n",
              "      background-color: #E2EBFA;\n",
              "      box-shadow: 0px 1px 2px rgba(60, 64, 67, 0.3), 0px 1px 3px 1px rgba(60, 64, 67, 0.15);\n",
              "      fill: #174EA6;\n",
              "    }\n",
              "\n",
              "    [theme=dark] .colab-df-convert {\n",
              "      background-color: #3B4455;\n",
              "      fill: #D2E3FC;\n",
              "    }\n",
              "\n",
              "    [theme=dark] .colab-df-convert:hover {\n",
              "      background-color: #434B5C;\n",
              "      box-shadow: 0px 1px 3px 1px rgba(0, 0, 0, 0.15);\n",
              "      filter: drop-shadow(0px 1px 2px rgba(0, 0, 0, 0.3));\n",
              "      fill: #FFFFFF;\n",
              "    }\n",
              "  </style>\n",
              "\n",
              "      <script>\n",
              "        const buttonEl =\n",
              "          document.querySelector('#df-8317801d-4af4-42c4-abb6-1606e994a7a0 button.colab-df-convert');\n",
              "        buttonEl.style.display =\n",
              "          google.colab.kernel.accessAllowed ? 'block' : 'none';\n",
              "\n",
              "        async function convertToInteractive(key) {\n",
              "          const element = document.querySelector('#df-8317801d-4af4-42c4-abb6-1606e994a7a0');\n",
              "          const dataTable =\n",
              "            await google.colab.kernel.invokeFunction('convertToInteractive',\n",
              "                                                     [key], {});\n",
              "          if (!dataTable) return;\n",
              "\n",
              "          const docLinkHtml = 'Like what you see? Visit the ' +\n",
              "            '<a target=\"_blank\" href=https://colab.research.google.com/notebooks/data_table.ipynb>data table notebook</a>'\n",
              "            + ' to learn more about interactive tables.';\n",
              "          element.innerHTML = '';\n",
              "          dataTable['output_type'] = 'display_data';\n",
              "          await google.colab.output.renderOutput(dataTable, element);\n",
              "          const docLink = document.createElement('div');\n",
              "          docLink.innerHTML = docLinkHtml;\n",
              "          element.appendChild(docLink);\n",
              "        }\n",
              "      </script>\n",
              "    </div>\n",
              "  </div>\n",
              "  "
            ]
          },
          "metadata": {},
          "execution_count": 9
        }
      ],
      "source": [
        "df.columns = ['event_name', 'user_id', 'event_timestamp', 'exp_id']\n",
        "df.head(3)"
      ]
    },
    {
      "cell_type": "markdown",
      "metadata": {
        "id": "7wTXLrFKYiAB"
      },
      "source": [
        "**Удалим дубликаты**"
      ]
    },
    {
      "cell_type": "code",
      "execution_count": null,
      "metadata": {
        "colab": {
          "base_uri": "https://localhost:8080/"
        },
        "id": "tr78farSYtrR",
        "outputId": "178bba0d-679b-4341-d5fb-b171f2d4247e"
      },
      "outputs": [
        {
          "output_type": "stream",
          "name": "stdout",
          "text": [
            "<class 'pandas.core.frame.DataFrame'>\n",
            "RangeIndex: 243713 entries, 0 to 243712\n",
            "Data columns (total 4 columns):\n",
            " #   Column           Non-Null Count   Dtype \n",
            "---  ------           --------------   ----- \n",
            " 0   event_name       243713 non-null  object\n",
            " 1   user_id          243713 non-null  int64 \n",
            " 2   event_timestamp  243713 non-null  int64 \n",
            " 3   exp_id           243713 non-null  int64 \n",
            "dtypes: int64(3), object(1)\n",
            "memory usage: 7.4+ MB\n"
          ]
        }
      ],
      "source": [
        "df = df.drop_duplicates().reset_index(drop=True)\n",
        "df.info()"
      ]
    },
    {
      "cell_type": "markdown",
      "metadata": {
        "id": "u8areUcAYvlI"
      },
      "source": [
        "Учитывая наличие столбца уникальных идентификаторов, проведём также поиск и удаление дубликатов без учёта данного столбца:"
      ]
    },
    {
      "cell_type": "code",
      "execution_count": null,
      "metadata": {
        "colab": {
          "base_uri": "https://localhost:8080/"
        },
        "id": "B2INeWrNZW7y",
        "outputId": "c38723e6-9a4e-4670-b60b-de5303f9ada3"
      },
      "outputs": [
        {
          "output_type": "stream",
          "name": "stdout",
          "text": [
            "<class 'pandas.core.frame.DataFrame'>\n",
            "RangeIndex: 230178 entries, 0 to 230177\n",
            "Data columns (total 4 columns):\n",
            " #   Column           Non-Null Count   Dtype \n",
            "---  ------           --------------   ----- \n",
            " 0   event_name       230178 non-null  object\n",
            " 1   user_id          230178 non-null  int64 \n",
            " 2   event_timestamp  230178 non-null  int64 \n",
            " 3   exp_id           230178 non-null  int64 \n",
            "dtypes: int64(3), object(1)\n",
            "memory usage: 7.0+ MB\n"
          ]
        }
      ],
      "source": [
        "df = df.drop_duplicates(subset=['event_name', 'event_timestamp', 'exp_id'], keep=False)\n",
        "df = df.reset_index(drop=True)\n",
        "df.info()"
      ]
    },
    {
      "cell_type": "markdown",
      "metadata": {
        "id": "lxNt-4UgaDDB"
      },
      "source": [
        "Очистим датасет от пользователей, которые попали в две и более экспериментальных групп. \n",
        "\n",
        "У нас три группы: условно говоря, это 1, 2 и 3. Они могут дать три парных варианта: 1-2, 1-3 или 2-3. В тройной вариант 1-2-3 войдёт любой парный вариант. Поэтому пробежим циклами по парным вариантам уникальных id, внесём в пустой список тех, кто замечен хотя бы в двух группах одновременно, и используем список для логической фильтрации"
      ]
    },
    {
      "cell_type": "code",
      "execution_count": null,
      "metadata": {
        "colab": {
          "base_uri": "https://localhost:8080/"
        },
        "id": "_trL-eBSaTeL",
        "outputId": "ffedc882-869a-4dbd-9252-4f5c3d4627dc"
      },
      "outputs": [
        {
          "output_type": "stream",
          "name": "stdout",
          "text": [
            "<class 'pandas.core.frame.DataFrame'>\n",
            "RangeIndex: 230178 entries, 0 to 230177\n",
            "Data columns (total 4 columns):\n",
            " #   Column           Non-Null Count   Dtype \n",
            "---  ------           --------------   ----- \n",
            " 0   event_name       230178 non-null  object\n",
            " 1   user_id          230178 non-null  int64 \n",
            " 2   event_timestamp  230178 non-null  int64 \n",
            " 3   exp_id           230178 non-null  int64 \n",
            "dtypes: int64(3), object(1)\n",
            "memory usage: 7.0+ MB\n"
          ]
        }
      ],
      "source": [
        "# составим срез по экспериментам\n",
        "gr_c1 = df.query('exp_id == 246')\n",
        "gr_c2 = df.query('exp_id == 247')\n",
        "gr_ex = df.query('exp_id == 248')\n",
        "# соберём уникальные id в экспериментах\n",
        "unique_c1 = gr_c1['user_id'].unique()\n",
        "unique_c2 = gr_c2['user_id'].unique()\n",
        "unique_ex = gr_ex['user_id'].unique()\n",
        "# создадим пустой список\n",
        "multi_users = []\n",
        "# цикл для пар 1-2 и 1-3\n",
        "for i in unique_c1:\n",
        "    if i in unique_c2:\n",
        "        multi_users.append(i)\n",
        "    if i in unique_ex:\n",
        "        multi_users.append(i)\n",
        "# цикл для пары 2-3\n",
        "for i in unique_c2:\n",
        "    if i in unique_ex:\n",
        "        multi_users.append(i)\n",
        "\n",
        "# цикл для логической фильтрации\n",
        "for i in df['user_id']:\n",
        "    if i in multi_users:\n",
        "        df = df.loc[df['user_id'] != i]\n",
        "\n",
        "df = df.reset_index(drop = True)\n",
        "df.info()"
      ]
    },
    {
      "cell_type": "markdown",
      "metadata": {
        "id": "BlBe2X_egANC"
      },
      "source": [
        "Полные дубликаты удалены, дубликаты без учёта идентификатора пользователя удалены, после чего пользователей, попавших в две и более групп не нашлось.\n",
        "\n",
        "---\n",
        "\n",
        "\n",
        "\n"
      ]
    },
    {
      "cell_type": "markdown",
      "metadata": {
        "id": "kVA_JXGBgKGK"
      },
      "source": [
        "**Добавим столбец даты и времени, а также отдельный столбец дат**"
      ]
    },
    {
      "cell_type": "code",
      "execution_count": null,
      "metadata": {
        "colab": {
          "base_uri": "https://localhost:8080/"
        },
        "id": "l8iWLZXjgjlq",
        "outputId": "2830be01-3b30-4fa8-a322-ae909733830c"
      },
      "outputs": [
        {
          "output_type": "stream",
          "name": "stdout",
          "text": [
            "<class 'pandas.core.frame.DataFrame'>\n",
            "RangeIndex: 230178 entries, 0 to 230177\n",
            "Data columns (total 6 columns):\n",
            " #   Column           Non-Null Count   Dtype         \n",
            "---  ------           --------------   -----         \n",
            " 0   event_name       230178 non-null  object        \n",
            " 1   user_id          230178 non-null  int64         \n",
            " 2   event_timestamp  230178 non-null  int64         \n",
            " 3   exp_id           230178 non-null  int64         \n",
            " 4   date_time        230178 non-null  datetime64[ns]\n",
            " 5   date             230178 non-null  datetime64[ns]\n",
            "dtypes: datetime64[ns](2), int64(3), object(1)\n",
            "memory usage: 10.5+ MB\n"
          ]
        }
      ],
      "source": [
        "df['date_time'] = pd.to_datetime(df['event_timestamp'], unit='s')\n",
        "df['date'] = df['date_time'].astype('datetime64[D]')\n",
        "df.info()"
      ]
    },
    {
      "cell_type": "code",
      "execution_count": null,
      "metadata": {
        "colab": {
          "base_uri": "https://localhost:8080/"
        },
        "id": "fxLTsfEsiM7Q",
        "outputId": "62a6ed2e-9055-4a1a-f001-e8058519eaad"
      },
      "outputs": [
        {
          "output_type": "execute_result",
          "data": {
            "text/plain": [
              "                event_name              user_id  event_timestamp  exp_id  \\\n",
              "0         MainScreenAppear  4575588528974610257       1564029816     246   \n",
              "1         MainScreenAppear  7416695313311560658       1564053102     246   \n",
              "2  PaymentScreenSuccessful  3518123091307005509       1564054127     248   \n",
              "\n",
              "            date_time       date  \n",
              "0 2019-07-25 04:43:36 2019-07-25  \n",
              "1 2019-07-25 11:11:42 2019-07-25  \n",
              "2 2019-07-25 11:28:47 2019-07-25  "
            ],
            "text/html": [
              "\n",
              "  <div id=\"df-1764b367-8605-462b-bd6c-b299549b9431\">\n",
              "    <div class=\"colab-df-container\">\n",
              "      <div>\n",
              "<style scoped>\n",
              "    .dataframe tbody tr th:only-of-type {\n",
              "        vertical-align: middle;\n",
              "    }\n",
              "\n",
              "    .dataframe tbody tr th {\n",
              "        vertical-align: top;\n",
              "    }\n",
              "\n",
              "    .dataframe thead th {\n",
              "        text-align: right;\n",
              "    }\n",
              "</style>\n",
              "<table border=\"1\" class=\"dataframe\">\n",
              "  <thead>\n",
              "    <tr style=\"text-align: right;\">\n",
              "      <th></th>\n",
              "      <th>event_name</th>\n",
              "      <th>user_id</th>\n",
              "      <th>event_timestamp</th>\n",
              "      <th>exp_id</th>\n",
              "      <th>date_time</th>\n",
              "      <th>date</th>\n",
              "    </tr>\n",
              "  </thead>\n",
              "  <tbody>\n",
              "    <tr>\n",
              "      <th>0</th>\n",
              "      <td>MainScreenAppear</td>\n",
              "      <td>4575588528974610257</td>\n",
              "      <td>1564029816</td>\n",
              "      <td>246</td>\n",
              "      <td>2019-07-25 04:43:36</td>\n",
              "      <td>2019-07-25</td>\n",
              "    </tr>\n",
              "    <tr>\n",
              "      <th>1</th>\n",
              "      <td>MainScreenAppear</td>\n",
              "      <td>7416695313311560658</td>\n",
              "      <td>1564053102</td>\n",
              "      <td>246</td>\n",
              "      <td>2019-07-25 11:11:42</td>\n",
              "      <td>2019-07-25</td>\n",
              "    </tr>\n",
              "    <tr>\n",
              "      <th>2</th>\n",
              "      <td>PaymentScreenSuccessful</td>\n",
              "      <td>3518123091307005509</td>\n",
              "      <td>1564054127</td>\n",
              "      <td>248</td>\n",
              "      <td>2019-07-25 11:28:47</td>\n",
              "      <td>2019-07-25</td>\n",
              "    </tr>\n",
              "  </tbody>\n",
              "</table>\n",
              "</div>\n",
              "      <button class=\"colab-df-convert\" onclick=\"convertToInteractive('df-1764b367-8605-462b-bd6c-b299549b9431')\"\n",
              "              title=\"Convert this dataframe to an interactive table.\"\n",
              "              style=\"display:none;\">\n",
              "        \n",
              "  <svg xmlns=\"http://www.w3.org/2000/svg\" height=\"24px\"viewBox=\"0 0 24 24\"\n",
              "       width=\"24px\">\n",
              "    <path d=\"M0 0h24v24H0V0z\" fill=\"none\"/>\n",
              "    <path d=\"M18.56 5.44l.94 2.06.94-2.06 2.06-.94-2.06-.94-.94-2.06-.94 2.06-2.06.94zm-11 1L8.5 8.5l.94-2.06 2.06-.94-2.06-.94L8.5 2.5l-.94 2.06-2.06.94zm10 10l.94 2.06.94-2.06 2.06-.94-2.06-.94-.94-2.06-.94 2.06-2.06.94z\"/><path d=\"M17.41 7.96l-1.37-1.37c-.4-.4-.92-.59-1.43-.59-.52 0-1.04.2-1.43.59L10.3 9.45l-7.72 7.72c-.78.78-.78 2.05 0 2.83L4 21.41c.39.39.9.59 1.41.59.51 0 1.02-.2 1.41-.59l7.78-7.78 2.81-2.81c.8-.78.8-2.07 0-2.86zM5.41 20L4 18.59l7.72-7.72 1.47 1.35L5.41 20z\"/>\n",
              "  </svg>\n",
              "      </button>\n",
              "      \n",
              "  <style>\n",
              "    .colab-df-container {\n",
              "      display:flex;\n",
              "      flex-wrap:wrap;\n",
              "      gap: 12px;\n",
              "    }\n",
              "\n",
              "    .colab-df-convert {\n",
              "      background-color: #E8F0FE;\n",
              "      border: none;\n",
              "      border-radius: 50%;\n",
              "      cursor: pointer;\n",
              "      display: none;\n",
              "      fill: #1967D2;\n",
              "      height: 32px;\n",
              "      padding: 0 0 0 0;\n",
              "      width: 32px;\n",
              "    }\n",
              "\n",
              "    .colab-df-convert:hover {\n",
              "      background-color: #E2EBFA;\n",
              "      box-shadow: 0px 1px 2px rgba(60, 64, 67, 0.3), 0px 1px 3px 1px rgba(60, 64, 67, 0.15);\n",
              "      fill: #174EA6;\n",
              "    }\n",
              "\n",
              "    [theme=dark] .colab-df-convert {\n",
              "      background-color: #3B4455;\n",
              "      fill: #D2E3FC;\n",
              "    }\n",
              "\n",
              "    [theme=dark] .colab-df-convert:hover {\n",
              "      background-color: #434B5C;\n",
              "      box-shadow: 0px 1px 3px 1px rgba(0, 0, 0, 0.15);\n",
              "      filter: drop-shadow(0px 1px 2px rgba(0, 0, 0, 0.3));\n",
              "      fill: #FFFFFF;\n",
              "    }\n",
              "  </style>\n",
              "\n",
              "      <script>\n",
              "        const buttonEl =\n",
              "          document.querySelector('#df-1764b367-8605-462b-bd6c-b299549b9431 button.colab-df-convert');\n",
              "        buttonEl.style.display =\n",
              "          google.colab.kernel.accessAllowed ? 'block' : 'none';\n",
              "\n",
              "        async function convertToInteractive(key) {\n",
              "          const element = document.querySelector('#df-1764b367-8605-462b-bd6c-b299549b9431');\n",
              "          const dataTable =\n",
              "            await google.colab.kernel.invokeFunction('convertToInteractive',\n",
              "                                                     [key], {});\n",
              "          if (!dataTable) return;\n",
              "\n",
              "          const docLinkHtml = 'Like what you see? Visit the ' +\n",
              "            '<a target=\"_blank\" href=https://colab.research.google.com/notebooks/data_table.ipynb>data table notebook</a>'\n",
              "            + ' to learn more about interactive tables.';\n",
              "          element.innerHTML = '';\n",
              "          dataTable['output_type'] = 'display_data';\n",
              "          await google.colab.output.renderOutput(dataTable, element);\n",
              "          const docLink = document.createElement('div');\n",
              "          docLink.innerHTML = docLinkHtml;\n",
              "          element.appendChild(docLink);\n",
              "        }\n",
              "      </script>\n",
              "    </div>\n",
              "  </div>\n",
              "  "
            ]
          },
          "metadata": {},
          "execution_count": 14
        }
      ],
      "source": [
        "df.head(3)"
      ]
    },
    {
      "cell_type": "markdown",
      "metadata": {
        "id": "NZyLd1stz_dC"
      },
      "source": [
        "### **Изучение данных**"
      ]
    },
    {
      "cell_type": "markdown",
      "metadata": {
        "id": "KCkT305P0Ebh"
      },
      "source": [
        "**1) сколько всего событий в логе?**"
      ]
    },
    {
      "cell_type": "code",
      "execution_count": null,
      "metadata": {
        "colab": {
          "base_uri": "https://localhost:8080/"
        },
        "id": "PgmRIoYr0lu6",
        "outputId": "b47195e8-8baa-44d6-96ca-7ce624ea40ef"
      },
      "outputs": [
        {
          "output_type": "stream",
          "name": "stdout",
          "text": [
            "Всего событий 230178, типов событий 5.\n"
          ]
        }
      ],
      "source": [
        "print('Всего событий %d, типов событий %d.' % (df.shape[0], df['event_name'].nunique()))"
      ]
    },
    {
      "cell_type": "markdown",
      "metadata": {
        "id": "p2Ch9ON90_mZ"
      },
      "source": [
        "**2) сколько всего пользователей в логе?**"
      ]
    },
    {
      "cell_type": "code",
      "execution_count": null,
      "metadata": {
        "colab": {
          "base_uri": "https://localhost:8080/"
        },
        "id": "vAWK20P01Tfx",
        "outputId": "70e8f5f6-d108-43b8-cda9-bdccd34b5fd4"
      },
      "outputs": [
        {
          "output_type": "stream",
          "name": "stdout",
          "text": [
            "Всего пользователей в логе 7539.\n"
          ]
        }
      ],
      "source": [
        "print('Всего пользователей в логе %d.' % (df['user_id'].nunique()))"
      ]
    },
    {
      "cell_type": "markdown",
      "metadata": {
        "id": "hJayyi9X1VeZ"
      },
      "source": [
        "**3) сколько в среднем событий приходится на пользователя?**"
      ]
    },
    {
      "cell_type": "code",
      "execution_count": null,
      "metadata": {
        "colab": {
          "base_uri": "https://localhost:8080/"
        },
        "id": "5hrwQtuD1rSC",
        "outputId": "f0b07674-a828-440a-bac7-b97509f2781e"
      },
      "outputs": [
        {
          "output_type": "stream",
          "name": "stdout",
          "text": [
            "В среднем событий на пользователя 30.\n"
          ]
        }
      ],
      "source": [
        "print('В среднем событий на пользователя %d.' % (df.shape[0] / df['user_id'].nunique()))"
      ]
    },
    {
      "cell_type": "markdown",
      "metadata": {
        "id": "rb0ja_Zr1scS"
      },
      "source": [
        "**4) данными за какой период вы располагаете?**\n",
        "\n",
        "Найдите максимальную и минимальную дату.\n",
        "\n",
        "Постройте гистограмму по дате и времени.\n",
        "\n",
        "Можно ли быть уверенным, что у вас одинаково полные данные за весь период?\n",
        "\n",
        "Технически в логи новых дней по некоторым пользователям могут «доезжать» события из прошлого — это может «перекашивать данные».\n",
        "\n",
        "Определите, с какого момента данные полные и отбросьте более старые.\n",
        "\n",
        "Данными за какой период времени вы располагаете на самом деле?"
      ]
    },
    {
      "cell_type": "code",
      "execution_count": null,
      "metadata": {
        "colab": {
          "base_uri": "https://localhost:8080/"
        },
        "id": "np3wFXE_2EoB",
        "outputId": "9f33918c-d0af-4b6f-8e41-5dddbcd47a96"
      },
      "outputs": [
        {
          "output_type": "execute_result",
          "data": {
            "text/plain": [
              "1182701"
            ]
          },
          "metadata": {},
          "execution_count": 18
        }
      ],
      "source": [
        "np.ptp(df['event_timestamp'].to_numpy())"
      ]
    },
    {
      "cell_type": "code",
      "execution_count": null,
      "metadata": {
        "id": "o_s0i4R32Edp"
      },
      "outputs": [],
      "source": [
        "delta_time = pd.to_timedelta(1182701, unit='s')"
      ]
    },
    {
      "cell_type": "code",
      "execution_count": null,
      "metadata": {
        "id": "Zuj_2Guq2ESC"
      },
      "outputs": [],
      "source": [
        "firts_date = df['date_time'].min()\n",
        "last_date = df['date_time'].max()"
      ]
    },
    {
      "cell_type": "code",
      "execution_count": null,
      "metadata": {
        "colab": {
          "base_uri": "https://localhost:8080/"
        },
        "id": "Q-SJq53K2D6a",
        "outputId": "c35a31f5-1af8-4c95-a758-d99e47db342b"
      },
      "outputs": [
        {
          "output_type": "stream",
          "name": "stdout",
          "text": [
            "Данные от 2019-07-25 04:43:36 до 2019-08-07 21:15:17, разница в 13 days 16:31:41.\n"
          ]
        }
      ],
      "source": [
        "print('Данные от %s до %s, разница в %s.' % (firts_date, last_date, delta_time))"
      ]
    },
    {
      "cell_type": "code",
      "execution_count": null,
      "metadata": {
        "colab": {
          "base_uri": "https://localhost:8080/"
        },
        "id": "VECILJs02X1x",
        "outputId": "d332aa6c-88f7-434d-f812-b26f7710a075"
      },
      "outputs": [
        {
          "output_type": "execute_result",
          "data": {
            "text/plain": [
              "         date  event_name    percent     cum_sum\n",
              "0  2019-07-25           9   0.003910    0.003910\n",
              "1  2019-07-26          31   0.013468    0.017378\n",
              "2  2019-07-27          55   0.023895    0.041272\n",
              "3  2019-07-28         105   0.045617    0.086889\n",
              "4  2019-07-29         184   0.079938    0.166827\n",
              "5  2019-07-30         412   0.178992    0.345819\n",
              "6  2019-07-31        2020   0.877582    1.223401\n",
              "7  2019-08-01       33972  14.759013   15.982414\n",
              "8  2019-08-02       33636  14.613039   30.595452\n",
              "9  2019-08-03       31576  13.718079   44.313531\n",
              "10 2019-08-04       31361  13.624673   57.938204\n",
              "11 2019-08-05       33900  14.727732   72.665937\n",
              "12 2019-08-06       33586  14.591316   87.257253\n",
              "13 2019-08-07       29331  12.742747  100.000000"
            ],
            "text/html": [
              "\n",
              "  <div id=\"df-3e52ec24-30b4-4c60-9340-391a974d98b3\">\n",
              "    <div class=\"colab-df-container\">\n",
              "      <div>\n",
              "<style scoped>\n",
              "    .dataframe tbody tr th:only-of-type {\n",
              "        vertical-align: middle;\n",
              "    }\n",
              "\n",
              "    .dataframe tbody tr th {\n",
              "        vertical-align: top;\n",
              "    }\n",
              "\n",
              "    .dataframe thead th {\n",
              "        text-align: right;\n",
              "    }\n",
              "</style>\n",
              "<table border=\"1\" class=\"dataframe\">\n",
              "  <thead>\n",
              "    <tr style=\"text-align: right;\">\n",
              "      <th></th>\n",
              "      <th>date</th>\n",
              "      <th>event_name</th>\n",
              "      <th>percent</th>\n",
              "      <th>cum_sum</th>\n",
              "    </tr>\n",
              "  </thead>\n",
              "  <tbody>\n",
              "    <tr>\n",
              "      <th>0</th>\n",
              "      <td>2019-07-25</td>\n",
              "      <td>9</td>\n",
              "      <td>0.003910</td>\n",
              "      <td>0.003910</td>\n",
              "    </tr>\n",
              "    <tr>\n",
              "      <th>1</th>\n",
              "      <td>2019-07-26</td>\n",
              "      <td>31</td>\n",
              "      <td>0.013468</td>\n",
              "      <td>0.017378</td>\n",
              "    </tr>\n",
              "    <tr>\n",
              "      <th>2</th>\n",
              "      <td>2019-07-27</td>\n",
              "      <td>55</td>\n",
              "      <td>0.023895</td>\n",
              "      <td>0.041272</td>\n",
              "    </tr>\n",
              "    <tr>\n",
              "      <th>3</th>\n",
              "      <td>2019-07-28</td>\n",
              "      <td>105</td>\n",
              "      <td>0.045617</td>\n",
              "      <td>0.086889</td>\n",
              "    </tr>\n",
              "    <tr>\n",
              "      <th>4</th>\n",
              "      <td>2019-07-29</td>\n",
              "      <td>184</td>\n",
              "      <td>0.079938</td>\n",
              "      <td>0.166827</td>\n",
              "    </tr>\n",
              "    <tr>\n",
              "      <th>5</th>\n",
              "      <td>2019-07-30</td>\n",
              "      <td>412</td>\n",
              "      <td>0.178992</td>\n",
              "      <td>0.345819</td>\n",
              "    </tr>\n",
              "    <tr>\n",
              "      <th>6</th>\n",
              "      <td>2019-07-31</td>\n",
              "      <td>2020</td>\n",
              "      <td>0.877582</td>\n",
              "      <td>1.223401</td>\n",
              "    </tr>\n",
              "    <tr>\n",
              "      <th>7</th>\n",
              "      <td>2019-08-01</td>\n",
              "      <td>33972</td>\n",
              "      <td>14.759013</td>\n",
              "      <td>15.982414</td>\n",
              "    </tr>\n",
              "    <tr>\n",
              "      <th>8</th>\n",
              "      <td>2019-08-02</td>\n",
              "      <td>33636</td>\n",
              "      <td>14.613039</td>\n",
              "      <td>30.595452</td>\n",
              "    </tr>\n",
              "    <tr>\n",
              "      <th>9</th>\n",
              "      <td>2019-08-03</td>\n",
              "      <td>31576</td>\n",
              "      <td>13.718079</td>\n",
              "      <td>44.313531</td>\n",
              "    </tr>\n",
              "    <tr>\n",
              "      <th>10</th>\n",
              "      <td>2019-08-04</td>\n",
              "      <td>31361</td>\n",
              "      <td>13.624673</td>\n",
              "      <td>57.938204</td>\n",
              "    </tr>\n",
              "    <tr>\n",
              "      <th>11</th>\n",
              "      <td>2019-08-05</td>\n",
              "      <td>33900</td>\n",
              "      <td>14.727732</td>\n",
              "      <td>72.665937</td>\n",
              "    </tr>\n",
              "    <tr>\n",
              "      <th>12</th>\n",
              "      <td>2019-08-06</td>\n",
              "      <td>33586</td>\n",
              "      <td>14.591316</td>\n",
              "      <td>87.257253</td>\n",
              "    </tr>\n",
              "    <tr>\n",
              "      <th>13</th>\n",
              "      <td>2019-08-07</td>\n",
              "      <td>29331</td>\n",
              "      <td>12.742747</td>\n",
              "      <td>100.000000</td>\n",
              "    </tr>\n",
              "  </tbody>\n",
              "</table>\n",
              "</div>\n",
              "      <button class=\"colab-df-convert\" onclick=\"convertToInteractive('df-3e52ec24-30b4-4c60-9340-391a974d98b3')\"\n",
              "              title=\"Convert this dataframe to an interactive table.\"\n",
              "              style=\"display:none;\">\n",
              "        \n",
              "  <svg xmlns=\"http://www.w3.org/2000/svg\" height=\"24px\"viewBox=\"0 0 24 24\"\n",
              "       width=\"24px\">\n",
              "    <path d=\"M0 0h24v24H0V0z\" fill=\"none\"/>\n",
              "    <path d=\"M18.56 5.44l.94 2.06.94-2.06 2.06-.94-2.06-.94-.94-2.06-.94 2.06-2.06.94zm-11 1L8.5 8.5l.94-2.06 2.06-.94-2.06-.94L8.5 2.5l-.94 2.06-2.06.94zm10 10l.94 2.06.94-2.06 2.06-.94-2.06-.94-.94-2.06-.94 2.06-2.06.94z\"/><path d=\"M17.41 7.96l-1.37-1.37c-.4-.4-.92-.59-1.43-.59-.52 0-1.04.2-1.43.59L10.3 9.45l-7.72 7.72c-.78.78-.78 2.05 0 2.83L4 21.41c.39.39.9.59 1.41.59.51 0 1.02-.2 1.41-.59l7.78-7.78 2.81-2.81c.8-.78.8-2.07 0-2.86zM5.41 20L4 18.59l7.72-7.72 1.47 1.35L5.41 20z\"/>\n",
              "  </svg>\n",
              "      </button>\n",
              "      \n",
              "  <style>\n",
              "    .colab-df-container {\n",
              "      display:flex;\n",
              "      flex-wrap:wrap;\n",
              "      gap: 12px;\n",
              "    }\n",
              "\n",
              "    .colab-df-convert {\n",
              "      background-color: #E8F0FE;\n",
              "      border: none;\n",
              "      border-radius: 50%;\n",
              "      cursor: pointer;\n",
              "      display: none;\n",
              "      fill: #1967D2;\n",
              "      height: 32px;\n",
              "      padding: 0 0 0 0;\n",
              "      width: 32px;\n",
              "    }\n",
              "\n",
              "    .colab-df-convert:hover {\n",
              "      background-color: #E2EBFA;\n",
              "      box-shadow: 0px 1px 2px rgba(60, 64, 67, 0.3), 0px 1px 3px 1px rgba(60, 64, 67, 0.15);\n",
              "      fill: #174EA6;\n",
              "    }\n",
              "\n",
              "    [theme=dark] .colab-df-convert {\n",
              "      background-color: #3B4455;\n",
              "      fill: #D2E3FC;\n",
              "    }\n",
              "\n",
              "    [theme=dark] .colab-df-convert:hover {\n",
              "      background-color: #434B5C;\n",
              "      box-shadow: 0px 1px 3px 1px rgba(0, 0, 0, 0.15);\n",
              "      filter: drop-shadow(0px 1px 2px rgba(0, 0, 0, 0.3));\n",
              "      fill: #FFFFFF;\n",
              "    }\n",
              "  </style>\n",
              "\n",
              "      <script>\n",
              "        const buttonEl =\n",
              "          document.querySelector('#df-3e52ec24-30b4-4c60-9340-391a974d98b3 button.colab-df-convert');\n",
              "        buttonEl.style.display =\n",
              "          google.colab.kernel.accessAllowed ? 'block' : 'none';\n",
              "\n",
              "        async function convertToInteractive(key) {\n",
              "          const element = document.querySelector('#df-3e52ec24-30b4-4c60-9340-391a974d98b3');\n",
              "          const dataTable =\n",
              "            await google.colab.kernel.invokeFunction('convertToInteractive',\n",
              "                                                     [key], {});\n",
              "          if (!dataTable) return;\n",
              "\n",
              "          const docLinkHtml = 'Like what you see? Visit the ' +\n",
              "            '<a target=\"_blank\" href=https://colab.research.google.com/notebooks/data_table.ipynb>data table notebook</a>'\n",
              "            + ' to learn more about interactive tables.';\n",
              "          element.innerHTML = '';\n",
              "          dataTable['output_type'] = 'display_data';\n",
              "          await google.colab.output.renderOutput(dataTable, element);\n",
              "          const docLink = document.createElement('div');\n",
              "          docLink.innerHTML = docLinkHtml;\n",
              "          element.appendChild(docLink);\n",
              "        }\n",
              "      </script>\n",
              "    </div>\n",
              "  </div>\n",
              "  "
            ]
          },
          "metadata": {},
          "execution_count": 22
        }
      ],
      "source": [
        "temp = df.groupby(by='date').agg({'event_name': 'count'}).reset_index()\n",
        "temp['percent'] = temp['event_name'] / temp['event_name'].sum() * 100\n",
        "# отдельно посчитаем пошаговую суммацию процента данных по времени\n",
        "temp['cum_sum'] = temp['percent'].cumsum()\n",
        "temp"
      ]
    },
    {
      "cell_type": "markdown",
      "metadata": {
        "id": "LluD3mztoGTs"
      },
      "source": [
        "Данные полные.\n",
        "\n",
        "Построим гистограмму:"
      ]
    },
    {
      "cell_type": "code",
      "execution_count": null,
      "metadata": {
        "colab": {
          "base_uri": "https://localhost:8080/"
        },
        "id": "eu27DVFr2atq",
        "outputId": "5bb23720-4156-4d11-c9c2-e50753f2a6a5"
      },
      "outputs": [
        {
          "output_type": "display_data",
          "data": {
            "text/plain": [
              "<Figure size 864x576 with 1 Axes>"
            ],
            "image/png": "[encoded data removed]"
          },
          "metadata": {}
        }
      ],
      "source": [
        "ax = df['date_time'].hist(bins=50)\n",
        "plt.title('Гистограмма по дате и времени')\n",
        "plt.ylabel(\"частота\")\n",
        "plt.xlabel(\"дата\")\n",
        "plt.xticks(rotation=45)\n",
        "plt.show()"
      ]
    },
    {
      "cell_type": "markdown",
      "metadata": {
        "id": "QKw0AOHA2wpD"
      },
      "source": [
        "Значимые данные мы имеем с 2019-07-31, откуда прослеживается их заметный рост. Выведем очищенные по дате данные в отдельный датафрейм."
      ]
    },
    {
      "cell_type": "code",
      "execution_count": null,
      "metadata": {
        "id": "MZCKqZVR2xtB"
      },
      "outputs": [],
      "source": [
        "df_clean = df.loc[df['date'] > '2019-07-31']"
      ]
    },
    {
      "cell_type": "markdown",
      "metadata": {
        "id": "gD4rBrGs3EPD"
      },
      "source": [
        "**5) Много ли событий и пользователей вы потеряли, отбросив старые данные?**"
      ]
    },
    {
      "cell_type": "code",
      "execution_count": null,
      "metadata": {
        "colab": {
          "base_uri": "https://localhost:8080/"
        },
        "id": "rkdML8fv3QgD",
        "outputId": "40252d22-b5aa-4f7b-90b4-503980431c7d"
      },
      "outputs": [
        {
          "output_type": "stream",
          "name": "stdout",
          "text": [
            "СТАРЫЕ ДАННЫЕ: Всего событий 230178, типов событий 5.\n",
            "ПОСЛЕ ОЧИСТКИ: Всего событий 227362, типов событий 5.\n"
          ]
        }
      ],
      "source": [
        "print('СТАРЫЕ ДАННЫЕ: Всего событий %d, типов событий %d.' % (df.shape[0], df['event_name'].nunique()))\n",
        "print('ПОСЛЕ ОЧИСТКИ: Всего событий %d, типов событий %d.' % (df_clean.shape[0], df_clean['event_name'].nunique()))"
      ]
    },
    {
      "cell_type": "code",
      "execution_count": null,
      "metadata": {
        "colab": {
          "base_uri": "https://localhost:8080/"
        },
        "id": "kqEMYKMm3Q6J",
        "outputId": "1a2666e6-81b3-4a93-ff0c-91c93260e40d"
      },
      "outputs": [
        {
          "output_type": "stream",
          "name": "stdout",
          "text": [
            "СТАРЫЕ ДАННЫЕ: Всего пользователей в логе 7539.\n",
            "ПОСЛЕ ОЧИСТКИ: Всего пользователей в логе 7521.\n"
          ]
        }
      ],
      "source": [
        "print('СТАРЫЕ ДАННЫЕ: Всего пользователей в логе %d.' % (df['user_id'].nunique()))\n",
        "print('ПОСЛЕ ОЧИСТКИ: Всего пользователей в логе %d.' % (df_clean['user_id'].nunique()))"
      ]
    },
    {
      "cell_type": "code",
      "execution_count": null,
      "metadata": {
        "colab": {
          "base_uri": "https://localhost:8080/"
        },
        "id": "STPywLAS3RNx",
        "outputId": "ac75af18-40d6-497f-d66e-6e25968b13ce"
      },
      "outputs": [
        {
          "output_type": "stream",
          "name": "stdout",
          "text": [
            "СТАРЫЕ ДАННЫЕ: В среднем событий на пользователя 30.\n",
            "ПОСЛЕ ОЧИСТКИ: В среднем событий на пользователя 30.\n"
          ]
        }
      ],
      "source": [
        "print('СТАРЫЕ ДАННЫЕ: В среднем событий на пользователя %d.' % (df.shape[0] / df['user_id'].nunique()))\n",
        "print('ПОСЛЕ ОЧИСТКИ: В среднем событий на пользователя %d.' % (df_clean.shape[0] / df_clean['user_id'].nunique()))"
      ]
    },
    {
      "cell_type": "markdown",
      "metadata": {
        "id": "7Ejgbka-3YzF"
      },
      "source": [
        "ИТОГО:\n",
        "\n",
        "*   Очищено несколько тысяч событий\n",
        "*   Количество анализируемых пользователей при этом уменьшилось незначительно\n",
        "*   Количество событий на пользователя не изменилось\n",
        "\n"
      ]
    },
    {
      "cell_type": "code",
      "source": [
        "per_shape = 100 - (df_clean.shape[0] / df.shape[0] * 100)\n",
        "per_users = 100 - (df_clean['user_id'].nunique() / df['user_id'].nunique() * 100)\n",
        "print(f'При очистке из рассчётов выведено событий: {per_shape}%')\n",
        "print(f'При очистке из рассчётов выведено пользователей: {per_users}%')"
      ],
      "metadata": {
        "colab": {
          "base_uri": "https://localhost:8080/"
        },
        "id": "aIyr8fsuqZPT",
        "outputId": "e41813df-205a-4e94-af8f-39662fa5e6ea"
      },
      "execution_count": null,
      "outputs": [
        {
          "output_type": "stream",
          "name": "stdout",
          "text": [
            "При очистке из рассчётов выведено событий: 1.223401020080118%\n",
            "При очистке из рассчётов выведено пользователей: 0.23875845602864842%\n"
          ]
        }
      ]
    },
    {
      "cell_type": "markdown",
      "metadata": {
        "id": "22lVmxTa3f8q"
      },
      "source": [
        "**6) Проверьте, что у вас есть пользователи из всех трёх экспериментальных групп**"
      ]
    },
    {
      "cell_type": "code",
      "execution_count": null,
      "metadata": {
        "colab": {
          "base_uri": "https://localhost:8080/"
        },
        "id": "ETj1EgvW3pBa",
        "outputId": "7f3d64c1-972c-4507-ab9f-40cb96e2bfd7"
      },
      "outputs": [
        {
          "output_type": "execute_result",
          "data": {
            "text/plain": [
              "        user_id\n",
              "exp_id         \n",
              "246        2480\n",
              "247        2508\n",
              "248        2533"
            ],
            "text/html": [
              "\n",
              "  <div id=\"df-bdd78429-adc1-4941-8e78-af66bb94b150\">\n",
              "    <div class=\"colab-df-container\">\n",
              "      <div>\n",
              "<style scoped>\n",
              "    .dataframe tbody tr th:only-of-type {\n",
              "        vertical-align: middle;\n",
              "    }\n",
              "\n",
              "    .dataframe tbody tr th {\n",
              "        vertical-align: top;\n",
              "    }\n",
              "\n",
              "    .dataframe thead th {\n",
              "        text-align: right;\n",
              "    }\n",
              "</style>\n",
              "<table border=\"1\" class=\"dataframe\">\n",
              "  <thead>\n",
              "    <tr style=\"text-align: right;\">\n",
              "      <th></th>\n",
              "      <th>user_id</th>\n",
              "    </tr>\n",
              "    <tr>\n",
              "      <th>exp_id</th>\n",
              "      <th></th>\n",
              "    </tr>\n",
              "  </thead>\n",
              "  <tbody>\n",
              "    <tr>\n",
              "      <th>246</th>\n",
              "      <td>2480</td>\n",
              "    </tr>\n",
              "    <tr>\n",
              "      <th>247</th>\n",
              "      <td>2508</td>\n",
              "    </tr>\n",
              "    <tr>\n",
              "      <th>248</th>\n",
              "      <td>2533</td>\n",
              "    </tr>\n",
              "  </tbody>\n",
              "</table>\n",
              "</div>\n",
              "      <button class=\"colab-df-convert\" onclick=\"convertToInteractive('df-bdd78429-adc1-4941-8e78-af66bb94b150')\"\n",
              "              title=\"Convert this dataframe to an interactive table.\"\n",
              "              style=\"display:none;\">\n",
              "        \n",
              "  <svg xmlns=\"http://www.w3.org/2000/svg\" height=\"24px\"viewBox=\"0 0 24 24\"\n",
              "       width=\"24px\">\n",
              "    <path d=\"M0 0h24v24H0V0z\" fill=\"none\"/>\n",
              "    <path d=\"M18.56 5.44l.94 2.06.94-2.06 2.06-.94-2.06-.94-.94-2.06-.94 2.06-2.06.94zm-11 1L8.5 8.5l.94-2.06 2.06-.94-2.06-.94L8.5 2.5l-.94 2.06-2.06.94zm10 10l.94 2.06.94-2.06 2.06-.94-2.06-.94-.94-2.06-.94 2.06-2.06.94z\"/><path d=\"M17.41 7.96l-1.37-1.37c-.4-.4-.92-.59-1.43-.59-.52 0-1.04.2-1.43.59L10.3 9.45l-7.72 7.72c-.78.78-.78 2.05 0 2.83L4 21.41c.39.39.9.59 1.41.59.51 0 1.02-.2 1.41-.59l7.78-7.78 2.81-2.81c.8-.78.8-2.07 0-2.86zM5.41 20L4 18.59l7.72-7.72 1.47 1.35L5.41 20z\"/>\n",
              "  </svg>\n",
              "      </button>\n",
              "      \n",
              "  <style>\n",
              "    .colab-df-container {\n",
              "      display:flex;\n",
              "      flex-wrap:wrap;\n",
              "      gap: 12px;\n",
              "    }\n",
              "\n",
              "    .colab-df-convert {\n",
              "      background-color: #E8F0FE;\n",
              "      border: none;\n",
              "      border-radius: 50%;\n",
              "      cursor: pointer;\n",
              "      display: none;\n",
              "      fill: #1967D2;\n",
              "      height: 32px;\n",
              "      padding: 0 0 0 0;\n",
              "      width: 32px;\n",
              "    }\n",
              "\n",
              "    .colab-df-convert:hover {\n",
              "      background-color: #E2EBFA;\n",
              "      box-shadow: 0px 1px 2px rgba(60, 64, 67, 0.3), 0px 1px 3px 1px rgba(60, 64, 67, 0.15);\n",
              "      fill: #174EA6;\n",
              "    }\n",
              "\n",
              "    [theme=dark] .colab-df-convert {\n",
              "      background-color: #3B4455;\n",
              "      fill: #D2E3FC;\n",
              "    }\n",
              "\n",
              "    [theme=dark] .colab-df-convert:hover {\n",
              "      background-color: #434B5C;\n",
              "      box-shadow: 0px 1px 3px 1px rgba(0, 0, 0, 0.15);\n",
              "      filter: drop-shadow(0px 1px 2px rgba(0, 0, 0, 0.3));\n",
              "      fill: #FFFFFF;\n",
              "    }\n",
              "  </style>\n",
              "\n",
              "      <script>\n",
              "        const buttonEl =\n",
              "          document.querySelector('#df-bdd78429-adc1-4941-8e78-af66bb94b150 button.colab-df-convert');\n",
              "        buttonEl.style.display =\n",
              "          google.colab.kernel.accessAllowed ? 'block' : 'none';\n",
              "\n",
              "        async function convertToInteractive(key) {\n",
              "          const element = document.querySelector('#df-bdd78429-adc1-4941-8e78-af66bb94b150');\n",
              "          const dataTable =\n",
              "            await google.colab.kernel.invokeFunction('convertToInteractive',\n",
              "                                                     [key], {});\n",
              "          if (!dataTable) return;\n",
              "\n",
              "          const docLinkHtml = 'Like what you see? Visit the ' +\n",
              "            '<a target=\"_blank\" href=https://colab.research.google.com/notebooks/data_table.ipynb>data table notebook</a>'\n",
              "            + ' to learn more about interactive tables.';\n",
              "          element.innerHTML = '';\n",
              "          dataTable['output_type'] = 'display_data';\n",
              "          await google.colab.output.renderOutput(dataTable, element);\n",
              "          const docLink = document.createElement('div');\n",
              "          docLink.innerHTML = docLinkHtml;\n",
              "          element.appendChild(docLink);\n",
              "        }\n",
              "      </script>\n",
              "    </div>\n",
              "  </div>\n",
              "  "
            ]
          },
          "metadata": {},
          "execution_count": 29
        }
      ],
      "source": [
        "df_clean.groupby('exp_id').agg({'user_id': 'nunique'})"
      ]
    },
    {
      "cell_type": "markdown",
      "metadata": {
        "id": "SAwyqb7enq1M"
      },
      "source": [
        "Пользователи всех трёх групп сохранены, количество их в группах слабо различается."
      ]
    },
    {
      "cell_type": "markdown",
      "metadata": {
        "id": "mtSfodUU3xSl"
      },
      "source": [
        "### **Изучите воронку событий**"
      ]
    },
    {
      "cell_type": "markdown",
      "metadata": {
        "id": "UHWIuCY337cy"
      },
      "source": [
        "**1) посмотрите, какие события есть в логах, как часто они встречаются**\n",
        "\n",
        "Отсортируйте события по частоте"
      ]
    },
    {
      "cell_type": "code",
      "execution_count": null,
      "metadata": {
        "colab": {
          "base_uri": "https://localhost:8080/"
        },
        "id": "jCbymMa1eb6t",
        "outputId": "91d50fe8-db8f-46a7-b68c-15f93aa3ff86"
      },
      "outputs": [
        {
          "output_type": "execute_result",
          "data": {
            "text/plain": [
              "                         user_id\n",
              "event_name                      \n",
              "MainScreenAppear          107716\n",
              "OffersScreenAppear         44733\n",
              "CartScreenAppear           40896\n",
              "PaymentScreenSuccessful    33012\n",
              "Tutorial                    1005"
            ],
            "text/html": [
              "\n",
              "  <div id=\"df-5f121dad-3bbd-4ed3-9529-ff89ee7f9793\">\n",
              "    <div class=\"colab-df-container\">\n",
              "      <div>\n",
              "<style scoped>\n",
              "    .dataframe tbody tr th:only-of-type {\n",
              "        vertical-align: middle;\n",
              "    }\n",
              "\n",
              "    .dataframe tbody tr th {\n",
              "        vertical-align: top;\n",
              "    }\n",
              "\n",
              "    .dataframe thead th {\n",
              "        text-align: right;\n",
              "    }\n",
              "</style>\n",
              "<table border=\"1\" class=\"dataframe\">\n",
              "  <thead>\n",
              "    <tr style=\"text-align: right;\">\n",
              "      <th></th>\n",
              "      <th>user_id</th>\n",
              "    </tr>\n",
              "    <tr>\n",
              "      <th>event_name</th>\n",
              "      <th></th>\n",
              "    </tr>\n",
              "  </thead>\n",
              "  <tbody>\n",
              "    <tr>\n",
              "      <th>MainScreenAppear</th>\n",
              "      <td>107716</td>\n",
              "    </tr>\n",
              "    <tr>\n",
              "      <th>OffersScreenAppear</th>\n",
              "      <td>44733</td>\n",
              "    </tr>\n",
              "    <tr>\n",
              "      <th>CartScreenAppear</th>\n",
              "      <td>40896</td>\n",
              "    </tr>\n",
              "    <tr>\n",
              "      <th>PaymentScreenSuccessful</th>\n",
              "      <td>33012</td>\n",
              "    </tr>\n",
              "    <tr>\n",
              "      <th>Tutorial</th>\n",
              "      <td>1005</td>\n",
              "    </tr>\n",
              "  </tbody>\n",
              "</table>\n",
              "</div>\n",
              "      <button class=\"colab-df-convert\" onclick=\"convertToInteractive('df-5f121dad-3bbd-4ed3-9529-ff89ee7f9793')\"\n",
              "              title=\"Convert this dataframe to an interactive table.\"\n",
              "              style=\"display:none;\">\n",
              "        \n",
              "  <svg xmlns=\"http://www.w3.org/2000/svg\" height=\"24px\"viewBox=\"0 0 24 24\"\n",
              "       width=\"24px\">\n",
              "    <path d=\"M0 0h24v24H0V0z\" fill=\"none\"/>\n",
              "    <path d=\"M18.56 5.44l.94 2.06.94-2.06 2.06-.94-2.06-.94-.94-2.06-.94 2.06-2.06.94zm-11 1L8.5 8.5l.94-2.06 2.06-.94-2.06-.94L8.5 2.5l-.94 2.06-2.06.94zm10 10l.94 2.06.94-2.06 2.06-.94-2.06-.94-.94-2.06-.94 2.06-2.06.94z\"/><path d=\"M17.41 7.96l-1.37-1.37c-.4-.4-.92-.59-1.43-.59-.52 0-1.04.2-1.43.59L10.3 9.45l-7.72 7.72c-.78.78-.78 2.05 0 2.83L4 21.41c.39.39.9.59 1.41.59.51 0 1.02-.2 1.41-.59l7.78-7.78 2.81-2.81c.8-.78.8-2.07 0-2.86zM5.41 20L4 18.59l7.72-7.72 1.47 1.35L5.41 20z\"/>\n",
              "  </svg>\n",
              "      </button>\n",
              "      \n",
              "  <style>\n",
              "    .colab-df-container {\n",
              "      display:flex;\n",
              "      flex-wrap:wrap;\n",
              "      gap: 12px;\n",
              "    }\n",
              "\n",
              "    .colab-df-convert {\n",
              "      background-color: #E8F0FE;\n",
              "      border: none;\n",
              "      border-radius: 50%;\n",
              "      cursor: pointer;\n",
              "      display: none;\n",
              "      fill: #1967D2;\n",
              "      height: 32px;\n",
              "      padding: 0 0 0 0;\n",
              "      width: 32px;\n",
              "    }\n",
              "\n",
              "    .colab-df-convert:hover {\n",
              "      background-color: #E2EBFA;\n",
              "      box-shadow: 0px 1px 2px rgba(60, 64, 67, 0.3), 0px 1px 3px 1px rgba(60, 64, 67, 0.15);\n",
              "      fill: #174EA6;\n",
              "    }\n",
              "\n",
              "    [theme=dark] .colab-df-convert {\n",
              "      background-color: #3B4455;\n",
              "      fill: #D2E3FC;\n",
              "    }\n",
              "\n",
              "    [theme=dark] .colab-df-convert:hover {\n",
              "      background-color: #434B5C;\n",
              "      box-shadow: 0px 1px 3px 1px rgba(0, 0, 0, 0.15);\n",
              "      filter: drop-shadow(0px 1px 2px rgba(0, 0, 0, 0.3));\n",
              "      fill: #FFFFFF;\n",
              "    }\n",
              "  </style>\n",
              "\n",
              "      <script>\n",
              "        const buttonEl =\n",
              "          document.querySelector('#df-5f121dad-3bbd-4ed3-9529-ff89ee7f9793 button.colab-df-convert');\n",
              "        buttonEl.style.display =\n",
              "          google.colab.kernel.accessAllowed ? 'block' : 'none';\n",
              "\n",
              "        async function convertToInteractive(key) {\n",
              "          const element = document.querySelector('#df-5f121dad-3bbd-4ed3-9529-ff89ee7f9793');\n",
              "          const dataTable =\n",
              "            await google.colab.kernel.invokeFunction('convertToInteractive',\n",
              "                                                     [key], {});\n",
              "          if (!dataTable) return;\n",
              "\n",
              "          const docLinkHtml = 'Like what you see? Visit the ' +\n",
              "            '<a target=\"_blank\" href=https://colab.research.google.com/notebooks/data_table.ipynb>data table notebook</a>'\n",
              "            + ' to learn more about interactive tables.';\n",
              "          element.innerHTML = '';\n",
              "          dataTable['output_type'] = 'display_data';\n",
              "          await google.colab.output.renderOutput(dataTable, element);\n",
              "          const docLink = document.createElement('div');\n",
              "          docLink.innerHTML = docLinkHtml;\n",
              "          element.appendChild(docLink);\n",
              "        }\n",
              "      </script>\n",
              "    </div>\n",
              "  </div>\n",
              "  "
            ]
          },
          "metadata": {},
          "execution_count": 30
        }
      ],
      "source": [
        "# составим сводную таблицу по очищенным данным, посчитав события по идентификаторам пользователей\n",
        "df_clean.pivot_table(values='user_id', index='event_name', aggfunc='count').sort_values(by='user_id', ascending=False)"
      ]
    },
    {
      "cell_type": "markdown",
      "metadata": {
        "id": "cgzI_6cy4D6K"
      },
      "source": [
        "**2) посчитайте, сколько пользователей совершали каждое из этих событий**\n",
        "\n",
        "Отсортируйте события по числу пользователей. Посчитайте долю пользователей, которые хоть раз совершали событие"
      ]
    },
    {
      "cell_type": "code",
      "execution_count": null,
      "metadata": {
        "colab": {
          "base_uri": "https://localhost:8080/"
        },
        "id": "Ow_ijCq04KG5",
        "outputId": "4b1e344c-63bb-4932-85e8-bc9125d6374a"
      },
      "outputs": [
        {
          "output_type": "execute_result",
          "data": {
            "text/plain": [
              "                event_name  total_users  percent\n",
              "0         MainScreenAppear         7389    98.24\n",
              "1       OffersScreenAppear         4571    60.78\n",
              "2         CartScreenAppear         3729    49.58\n",
              "3  PaymentScreenSuccessful         3529    46.92\n",
              "4                 Tutorial          840    11.17"
            ],
            "text/html": [
              "\n",
              "  <div id=\"df-2a4a166f-960f-4dd4-9710-f3f275ea6063\">\n",
              "    <div class=\"colab-df-container\">\n",
              "      <div>\n",
              "<style scoped>\n",
              "    .dataframe tbody tr th:only-of-type {\n",
              "        vertical-align: middle;\n",
              "    }\n",
              "\n",
              "    .dataframe tbody tr th {\n",
              "        vertical-align: top;\n",
              "    }\n",
              "\n",
              "    .dataframe thead th {\n",
              "        text-align: right;\n",
              "    }\n",
              "</style>\n",
              "<table border=\"1\" class=\"dataframe\">\n",
              "  <thead>\n",
              "    <tr style=\"text-align: right;\">\n",
              "      <th></th>\n",
              "      <th>event_name</th>\n",
              "      <th>total_users</th>\n",
              "      <th>percent</th>\n",
              "    </tr>\n",
              "  </thead>\n",
              "  <tbody>\n",
              "    <tr>\n",
              "      <th>0</th>\n",
              "      <td>MainScreenAppear</td>\n",
              "      <td>7389</td>\n",
              "      <td>98.24</td>\n",
              "    </tr>\n",
              "    <tr>\n",
              "      <th>1</th>\n",
              "      <td>OffersScreenAppear</td>\n",
              "      <td>4571</td>\n",
              "      <td>60.78</td>\n",
              "    </tr>\n",
              "    <tr>\n",
              "      <th>2</th>\n",
              "      <td>CartScreenAppear</td>\n",
              "      <td>3729</td>\n",
              "      <td>49.58</td>\n",
              "    </tr>\n",
              "    <tr>\n",
              "      <th>3</th>\n",
              "      <td>PaymentScreenSuccessful</td>\n",
              "      <td>3529</td>\n",
              "      <td>46.92</td>\n",
              "    </tr>\n",
              "    <tr>\n",
              "      <th>4</th>\n",
              "      <td>Tutorial</td>\n",
              "      <td>840</td>\n",
              "      <td>11.17</td>\n",
              "    </tr>\n",
              "  </tbody>\n",
              "</table>\n",
              "</div>\n",
              "      <button class=\"colab-df-convert\" onclick=\"convertToInteractive('df-2a4a166f-960f-4dd4-9710-f3f275ea6063')\"\n",
              "              title=\"Convert this dataframe to an interactive table.\"\n",
              "              style=\"display:none;\">\n",
              "        \n",
              "  <svg xmlns=\"http://www.w3.org/2000/svg\" height=\"24px\"viewBox=\"0 0 24 24\"\n",
              "       width=\"24px\">\n",
              "    <path d=\"M0 0h24v24H0V0z\" fill=\"none\"/>\n",
              "    <path d=\"M18.56 5.44l.94 2.06.94-2.06 2.06-.94-2.06-.94-.94-2.06-.94 2.06-2.06.94zm-11 1L8.5 8.5l.94-2.06 2.06-.94-2.06-.94L8.5 2.5l-.94 2.06-2.06.94zm10 10l.94 2.06.94-2.06 2.06-.94-2.06-.94-.94-2.06-.94 2.06-2.06.94z\"/><path d=\"M17.41 7.96l-1.37-1.37c-.4-.4-.92-.59-1.43-.59-.52 0-1.04.2-1.43.59L10.3 9.45l-7.72 7.72c-.78.78-.78 2.05 0 2.83L4 21.41c.39.39.9.59 1.41.59.51 0 1.02-.2 1.41-.59l7.78-7.78 2.81-2.81c.8-.78.8-2.07 0-2.86zM5.41 20L4 18.59l7.72-7.72 1.47 1.35L5.41 20z\"/>\n",
              "  </svg>\n",
              "      </button>\n",
              "      \n",
              "  <style>\n",
              "    .colab-df-container {\n",
              "      display:flex;\n",
              "      flex-wrap:wrap;\n",
              "      gap: 12px;\n",
              "    }\n",
              "\n",
              "    .colab-df-convert {\n",
              "      background-color: #E8F0FE;\n",
              "      border: none;\n",
              "      border-radius: 50%;\n",
              "      cursor: pointer;\n",
              "      display: none;\n",
              "      fill: #1967D2;\n",
              "      height: 32px;\n",
              "      padding: 0 0 0 0;\n",
              "      width: 32px;\n",
              "    }\n",
              "\n",
              "    .colab-df-convert:hover {\n",
              "      background-color: #E2EBFA;\n",
              "      box-shadow: 0px 1px 2px rgba(60, 64, 67, 0.3), 0px 1px 3px 1px rgba(60, 64, 67, 0.15);\n",
              "      fill: #174EA6;\n",
              "    }\n",
              "\n",
              "    [theme=dark] .colab-df-convert {\n",
              "      background-color: #3B4455;\n",
              "      fill: #D2E3FC;\n",
              "    }\n",
              "\n",
              "    [theme=dark] .colab-df-convert:hover {\n",
              "      background-color: #434B5C;\n",
              "      box-shadow: 0px 1px 3px 1px rgba(0, 0, 0, 0.15);\n",
              "      filter: drop-shadow(0px 1px 2px rgba(0, 0, 0, 0.3));\n",
              "      fill: #FFFFFF;\n",
              "    }\n",
              "  </style>\n",
              "\n",
              "      <script>\n",
              "        const buttonEl =\n",
              "          document.querySelector('#df-2a4a166f-960f-4dd4-9710-f3f275ea6063 button.colab-df-convert');\n",
              "        buttonEl.style.display =\n",
              "          google.colab.kernel.accessAllowed ? 'block' : 'none';\n",
              "\n",
              "        async function convertToInteractive(key) {\n",
              "          const element = document.querySelector('#df-2a4a166f-960f-4dd4-9710-f3f275ea6063');\n",
              "          const dataTable =\n",
              "            await google.colab.kernel.invokeFunction('convertToInteractive',\n",
              "                                                     [key], {});\n",
              "          if (!dataTable) return;\n",
              "\n",
              "          const docLinkHtml = 'Like what you see? Visit the ' +\n",
              "            '<a target=\"_blank\" href=https://colab.research.google.com/notebooks/data_table.ipynb>data table notebook</a>'\n",
              "            + ' to learn more about interactive tables.';\n",
              "          element.innerHTML = '';\n",
              "          dataTable['output_type'] = 'display_data';\n",
              "          await google.colab.output.renderOutput(dataTable, element);\n",
              "          const docLink = document.createElement('div');\n",
              "          docLink.innerHTML = docLinkHtml;\n",
              "          element.appendChild(docLink);\n",
              "        }\n",
              "      </script>\n",
              "    </div>\n",
              "  </div>\n",
              "  "
            ]
          },
          "metadata": {},
          "execution_count": 31
        }
      ],
      "source": [
        "# запишем данные в датасет funnel (анг. \"воронка\")\n",
        "# сгруппируем данные в сиреес, отсортируем, переведём в датафрейм, сменим имя колонки на более подходящее\n",
        "# добавим колонку процента пользователей, совершивших событие\n",
        "funnel = df_clean.groupby('event_name')['user_id'].nunique().sort_values(ascending=False).to_frame().reset_index()\\\n",
        "        .rename(columns={'user_id': 'total_users'})\n",
        "funnel['percent'] = funnel['total_users'] / df_clean['user_id'].nunique() * 100\n",
        "funnel['percent'] = funnel['percent'].round(2)\n",
        "funnel"
      ]
    },
    {
      "cell_type": "markdown",
      "metadata": {
        "id": "6cKnGCa94b8i"
      },
      "source": [
        "**3) предположите, в каком порядке происходят события**\n",
        "\n",
        "Все ли они выстраиваются в последовательную цепочку? Их не нужно учитывать при расчёте воронки.\n",
        "\n",
        "Туториал, как в большинстве приложений, пользователь может пропустить, иначе на его долю приходился бы более существенный процент. Тогда цепочка событий выглядит следующим образом:\n",
        "\n",
        "1) главный экран \n",
        "\n",
        "2) предложение\n",
        "\n",
        "3) корзина\n",
        "\n",
        "4) экран платежа\n",
        "\n",
        "Отфильтруем датасет воронки от туториала:"
      ]
    },
    {
      "cell_type": "code",
      "execution_count": null,
      "metadata": {
        "colab": {
          "base_uri": "https://localhost:8080/"
        },
        "id": "l5Ey_SlDjiGl",
        "outputId": "7ca9a518-1e7b-4368-b08f-bbb89cb9a064"
      },
      "outputs": [
        {
          "output_type": "execute_result",
          "data": {
            "text/plain": [
              "                event_name  total_users  percent\n",
              "0         MainScreenAppear         7389    98.24\n",
              "1       OffersScreenAppear         4571    60.78\n",
              "2         CartScreenAppear         3729    49.58\n",
              "3  PaymentScreenSuccessful         3529    46.92"
            ],
            "text/html": [
              "\n",
              "  <div id=\"df-91aa22c7-1027-4534-a57e-a0bc68ca2b80\">\n",
              "    <div class=\"colab-df-container\">\n",
              "      <div>\n",
              "<style scoped>\n",
              "    .dataframe tbody tr th:only-of-type {\n",
              "        vertical-align: middle;\n",
              "    }\n",
              "\n",
              "    .dataframe tbody tr th {\n",
              "        vertical-align: top;\n",
              "    }\n",
              "\n",
              "    .dataframe thead th {\n",
              "        text-align: right;\n",
              "    }\n",
              "</style>\n",
              "<table border=\"1\" class=\"dataframe\">\n",
              "  <thead>\n",
              "    <tr style=\"text-align: right;\">\n",
              "      <th></th>\n",
              "      <th>event_name</th>\n",
              "      <th>total_users</th>\n",
              "      <th>percent</th>\n",
              "    </tr>\n",
              "  </thead>\n",
              "  <tbody>\n",
              "    <tr>\n",
              "      <th>0</th>\n",
              "      <td>MainScreenAppear</td>\n",
              "      <td>7389</td>\n",
              "      <td>98.24</td>\n",
              "    </tr>\n",
              "    <tr>\n",
              "      <th>1</th>\n",
              "      <td>OffersScreenAppear</td>\n",
              "      <td>4571</td>\n",
              "      <td>60.78</td>\n",
              "    </tr>\n",
              "    <tr>\n",
              "      <th>2</th>\n",
              "      <td>CartScreenAppear</td>\n",
              "      <td>3729</td>\n",
              "      <td>49.58</td>\n",
              "    </tr>\n",
              "    <tr>\n",
              "      <th>3</th>\n",
              "      <td>PaymentScreenSuccessful</td>\n",
              "      <td>3529</td>\n",
              "      <td>46.92</td>\n",
              "    </tr>\n",
              "  </tbody>\n",
              "</table>\n",
              "</div>\n",
              "      <button class=\"colab-df-convert\" onclick=\"convertToInteractive('df-91aa22c7-1027-4534-a57e-a0bc68ca2b80')\"\n",
              "              title=\"Convert this dataframe to an interactive table.\"\n",
              "              style=\"display:none;\">\n",
              "        \n",
              "  <svg xmlns=\"http://www.w3.org/2000/svg\" height=\"24px\"viewBox=\"0 0 24 24\"\n",
              "       width=\"24px\">\n",
              "    <path d=\"M0 0h24v24H0V0z\" fill=\"none\"/>\n",
              "    <path d=\"M18.56 5.44l.94 2.06.94-2.06 2.06-.94-2.06-.94-.94-2.06-.94 2.06-2.06.94zm-11 1L8.5 8.5l.94-2.06 2.06-.94-2.06-.94L8.5 2.5l-.94 2.06-2.06.94zm10 10l.94 2.06.94-2.06 2.06-.94-2.06-.94-.94-2.06-.94 2.06-2.06.94z\"/><path d=\"M17.41 7.96l-1.37-1.37c-.4-.4-.92-.59-1.43-.59-.52 0-1.04.2-1.43.59L10.3 9.45l-7.72 7.72c-.78.78-.78 2.05 0 2.83L4 21.41c.39.39.9.59 1.41.59.51 0 1.02-.2 1.41-.59l7.78-7.78 2.81-2.81c.8-.78.8-2.07 0-2.86zM5.41 20L4 18.59l7.72-7.72 1.47 1.35L5.41 20z\"/>\n",
              "  </svg>\n",
              "      </button>\n",
              "      \n",
              "  <style>\n",
              "    .colab-df-container {\n",
              "      display:flex;\n",
              "      flex-wrap:wrap;\n",
              "      gap: 12px;\n",
              "    }\n",
              "\n",
              "    .colab-df-convert {\n",
              "      background-color: #E8F0FE;\n",
              "      border: none;\n",
              "      border-radius: 50%;\n",
              "      cursor: pointer;\n",
              "      display: none;\n",
              "      fill: #1967D2;\n",
              "      height: 32px;\n",
              "      padding: 0 0 0 0;\n",
              "      width: 32px;\n",
              "    }\n",
              "\n",
              "    .colab-df-convert:hover {\n",
              "      background-color: #E2EBFA;\n",
              "      box-shadow: 0px 1px 2px rgba(60, 64, 67, 0.3), 0px 1px 3px 1px rgba(60, 64, 67, 0.15);\n",
              "      fill: #174EA6;\n",
              "    }\n",
              "\n",
              "    [theme=dark] .colab-df-convert {\n",
              "      background-color: #3B4455;\n",
              "      fill: #D2E3FC;\n",
              "    }\n",
              "\n",
              "    [theme=dark] .colab-df-convert:hover {\n",
              "      background-color: #434B5C;\n",
              "      box-shadow: 0px 1px 3px 1px rgba(0, 0, 0, 0.15);\n",
              "      filter: drop-shadow(0px 1px 2px rgba(0, 0, 0, 0.3));\n",
              "      fill: #FFFFFF;\n",
              "    }\n",
              "  </style>\n",
              "\n",
              "      <script>\n",
              "        const buttonEl =\n",
              "          document.querySelector('#df-91aa22c7-1027-4534-a57e-a0bc68ca2b80 button.colab-df-convert');\n",
              "        buttonEl.style.display =\n",
              "          google.colab.kernel.accessAllowed ? 'block' : 'none';\n",
              "\n",
              "        async function convertToInteractive(key) {\n",
              "          const element = document.querySelector('#df-91aa22c7-1027-4534-a57e-a0bc68ca2b80');\n",
              "          const dataTable =\n",
              "            await google.colab.kernel.invokeFunction('convertToInteractive',\n",
              "                                                     [key], {});\n",
              "          if (!dataTable) return;\n",
              "\n",
              "          const docLinkHtml = 'Like what you see? Visit the ' +\n",
              "            '<a target=\"_blank\" href=https://colab.research.google.com/notebooks/data_table.ipynb>data table notebook</a>'\n",
              "            + ' to learn more about interactive tables.';\n",
              "          element.innerHTML = '';\n",
              "          dataTable['output_type'] = 'display_data';\n",
              "          await google.colab.output.renderOutput(dataTable, element);\n",
              "          const docLink = document.createElement('div');\n",
              "          docLink.innerHTML = docLinkHtml;\n",
              "          element.appendChild(docLink);\n",
              "        }\n",
              "      </script>\n",
              "    </div>\n",
              "  </div>\n",
              "  "
            ]
          },
          "metadata": {},
          "execution_count": 32
        }
      ],
      "source": [
        "funnel = funnel[:4]\n",
        "funnel"
      ]
    },
    {
      "cell_type": "markdown",
      "metadata": {
        "id": "Ksc7LLU_41oa"
      },
      "source": [
        "**4) по воронке событий посчитайте, какая доля пользователей проходит на следующий шаг воронки (от числа пользователей на предыдущем)**\n",
        "\n",
        "То есть для последовательности событий A -> B -> C, посчитайте отношение числа пользователей с событием B к количеству пользователей с событием A."
      ]
    },
    {
      "cell_type": "code",
      "execution_count": null,
      "metadata": {
        "colab": {
          "base_uri": "https://localhost:8080/"
        },
        "id": "Xd6vqcYs5J-q",
        "outputId": "6a7aed06-4656-493e-fd3b-c0aa52a1ac91"
      },
      "outputs": [
        {
          "output_type": "display_data",
          "data": {
            "text/html": [
              "<html>\n",
              "<head><meta charset=\"utf-8\" /></head>\n",
              "<body>\n",
              "    <div>            <script src=\"https://cdnjs.cloudflare.com/ajax/libs/mathjax/2.7.5/MathJax.js?config=TeX-AMS-MML_SVG\"></script><script type=\"text/javascript\">if (window.MathJax) {MathJax.Hub.Config({SVG: {font: \"STIX-Web\"}});}</script>                <script type=\"text/javascript\">window.PlotlyConfig = {MathJaxConfig: 'local'};</script>\n",
              "        <script src=\"https://cdn.plot.ly/plotly-2.8.3.min.js\"></script>                <div id=\"95a2e958-0ce1-497b-9cf3-78a32748c0de\" class=\"plotly-graph-div\" style=\"height:525px; width:100%;\"></div>            <script type=\"text/javascript\">                                    window.PLOTLYENV=window.PLOTLYENV || {};                                    if (document.getElementById(\"95a2e958-0ce1-497b-9cf3-78a32748c0de\")) {                    Plotly.newPlot(                        \"95a2e958-0ce1-497b-9cf3-78a32748c0de\",                        [{\"x\":[7389,4571,3729,3529],\"y\":[\"MainScreenAppear\",\"OffersScreenAppear\",\"CartScreenAppear\",\"PaymentScreenSuccessful\"],\"type\":\"funnel\"}],                        {\"template\":{\"data\":{\"bar\":[{\"error_x\":{\"color\":\"#2a3f5f\"},\"error_y\":{\"color\":\"#2a3f5f\"},\"marker\":{\"line\":{\"color\":\"#E5ECF6\",\"width\":0.5},\"pattern\":{\"fillmode\":\"overlay\",\"size\":10,\"solidity\":0.2}},\"type\":\"bar\"}],\"barpolar\":[{\"marker\":{\"line\":{\"color\":\"#E5ECF6\",\"width\":0.5},\"pattern\":{\"fillmode\":\"overlay\",\"size\":10,\"solidity\":0.2}},\"type\":\"barpolar\"}],\"carpet\":[{\"aaxis\":{\"endlinecolor\":\"#2a3f5f\",\"gridcolor\":\"white\",\"linecolor\":\"white\",\"minorgridcolor\":\"white\",\"startlinecolor\":\"#2a3f5f\"},\"baxis\":{\"endlinecolor\":\"#2a3f5f\",\"gridcolor\":\"white\",\"linecolor\":\"white\",\"minorgridcolor\":\"white\",\"startlinecolor\":\"#2a3f5f\"},\"type\":\"carpet\"}],\"choropleth\":[{\"colorbar\":{\"outlinewidth\":0,\"ticks\":\"\"},\"type\":\"choropleth\"}],\"contour\":[{\"colorbar\":{\"outlinewidth\":0,\"ticks\":\"\"},\"colorscale\":[[0.0,\"#0d0887\"],[0.1111111111111111,\"#46039f\"],[0.2222222222222222,\"#7201a8\"],[0.3333333333333333,\"#9c179e\"],[0.4444444444444444,\"#bd3786\"],[0.5555555555555556,\"#d8576b\"],[0.6666666666666666,\"#ed7953\"],[0.7777777777777778,\"#fb9f3a\"],[0.8888888888888888,\"#fdca26\"],[1.0,\"#f0f921\"]],\"type\":\"contour\"}],\"contourcarpet\":[{\"colorbar\":{\"outlinewidth\":0,\"ticks\":\"\"},\"type\":\"contourcarpet\"}],\"heatmap\":[{\"colorbar\":{\"outlinewidth\":0,\"ticks\":\"\"},\"colorscale\":[[0.0,\"#0d0887\"],[0.1111111111111111,\"#46039f\"],[0.2222222222222222,\"#7201a8\"],[0.3333333333333333,\"#9c179e\"],[0.4444444444444444,\"#bd3786\"],[0.5555555555555556,\"#d8576b\"],[0.6666666666666666,\"#ed7953\"],[0.7777777777777778,\"#fb9f3a\"],[0.8888888888888888,\"#fdca26\"],[1.0,\"#f0f921\"]],\"type\":\"heatmap\"}],\"heatmapgl\":[{\"colorbar\":{\"outlinewidth\":0,\"ticks\":\"\"},\"colorscale\":[[0.0,\"#0d0887\"],[0.1111111111111111,\"#46039f\"],[0.2222222222222222,\"#7201a8\"],[0.3333333333333333,\"#9c179e\"],[0.4444444444444444,\"#bd3786\"],[0.5555555555555556,\"#d8576b\"],[0.6666666666666666,\"#ed7953\"],[0.7777777777777778,\"#fb9f3a\"],[0.8888888888888888,\"#fdca26\"],[1.0,\"#f0f921\"]],\"type\":\"heatmapgl\"}],\"histogram\":[{\"marker\":{\"pattern\":{\"fillmode\":\"overlay\",\"size\":10,\"solidity\":0.2}},\"type\":\"histogram\"}],\"histogram2d\":[{\"colorbar\":{\"outlinewidth\":0,\"ticks\":\"\"},\"colorscale\":[[0.0,\"#0d0887\"],[0.1111111111111111,\"#46039f\"],[0.2222222222222222,\"#7201a8\"],[0.3333333333333333,\"#9c179e\"],[0.4444444444444444,\"#bd3786\"],[0.5555555555555556,\"#d8576b\"],[0.6666666666666666,\"#ed7953\"],[0.7777777777777778,\"#fb9f3a\"],[0.8888888888888888,\"#fdca26\"],[1.0,\"#f0f921\"]],\"type\":\"histogram2d\"}],\"histogram2dcontour\":[{\"colorbar\":{\"outlinewidth\":0,\"ticks\":\"\"},\"colorscale\":[[0.0,\"#0d0887\"],[0.1111111111111111,\"#46039f\"],[0.2222222222222222,\"#7201a8\"],[0.3333333333333333,\"#9c179e\"],[0.4444444444444444,\"#bd3786\"],[0.5555555555555556,\"#d8576b\"],[0.6666666666666666,\"#ed7953\"],[0.7777777777777778,\"#fb9f3a\"],[0.8888888888888888,\"#fdca26\"],[1.0,\"#f0f921\"]],\"type\":\"histogram2dcontour\"}],\"mesh3d\":[{\"colorbar\":{\"outlinewidth\":0,\"ticks\":\"\"},\"type\":\"mesh3d\"}],\"parcoords\":[{\"line\":{\"colorbar\":{\"outlinewidth\":0,\"ticks\":\"\"}},\"type\":\"parcoords\"}],\"pie\":[{\"automargin\":true,\"type\":\"pie\"}],\"scatter\":[{\"marker\":{\"colorbar\":{\"outlinewidth\":0,\"ticks\":\"\"}},\"type\":\"scatter\"}],\"scatter3d\":[{\"line\":{\"colorbar\":{\"outlinewidth\":0,\"ticks\":\"\"}},\"marker\":{\"colorbar\":{\"outlinewidth\":0,\"ticks\":\"\"}},\"type\":\"scatter3d\"}],\"scattercarpet\":[{\"marker\":{\"colorbar\":{\"outlinewidth\":0,\"ticks\":\"\"}},\"type\":\"scattercarpet\"}],\"scattergeo\":[{\"marker\":{\"colorbar\":{\"outlinewidth\":0,\"ticks\":\"\"}},\"type\":\"scattergeo\"}],\"scattergl\":[{\"marker\":{\"colorbar\":{\"outlinewidth\":0,\"ticks\":\"\"}},\"type\":\"scattergl\"}],\"scattermapbox\":[{\"marker\":{\"colorbar\":{\"outlinewidth\":0,\"ticks\":\"\"}},\"type\":\"scattermapbox\"}],\"scatterpolar\":[{\"marker\":{\"colorbar\":{\"outlinewidth\":0,\"ticks\":\"\"}},\"type\":\"scatterpolar\"}],\"scatterpolargl\":[{\"marker\":{\"colorbar\":{\"outlinewidth\":0,\"ticks\":\"\"}},\"type\":\"scatterpolargl\"}],\"scatterternary\":[{\"marker\":{\"colorbar\":{\"outlinewidth\":0,\"ticks\":\"\"}},\"type\":\"scatterternary\"}],\"surface\":[{\"colorbar\":{\"outlinewidth\":0,\"ticks\":\"\"},\"colorscale\":[[0.0,\"#0d0887\"],[0.1111111111111111,\"#46039f\"],[0.2222222222222222,\"#7201a8\"],[0.3333333333333333,\"#9c179e\"],[0.4444444444444444,\"#bd3786\"],[0.5555555555555556,\"#d8576b\"],[0.6666666666666666,\"#ed7953\"],[0.7777777777777778,\"#fb9f3a\"],[0.8888888888888888,\"#fdca26\"],[1.0,\"#f0f921\"]],\"type\":\"surface\"}],\"table\":[{\"cells\":{\"fill\":{\"color\":\"#EBF0F8\"},\"line\":{\"color\":\"white\"}},\"header\":{\"fill\":{\"color\":\"#C8D4E3\"},\"line\":{\"color\":\"white\"}},\"type\":\"table\"}]},\"layout\":{\"annotationdefaults\":{\"arrowcolor\":\"#2a3f5f\",\"arrowhead\":0,\"arrowwidth\":1},\"autotypenumbers\":\"strict\",\"coloraxis\":{\"colorbar\":{\"outlinewidth\":0,\"ticks\":\"\"}},\"colorscale\":{\"diverging\":[[0,\"#8e0152\"],[0.1,\"#c51b7d\"],[0.2,\"#de77ae\"],[0.3,\"#f1b6da\"],[0.4,\"#fde0ef\"],[0.5,\"#f7f7f7\"],[0.6,\"#e6f5d0\"],[0.7,\"#b8e186\"],[0.8,\"#7fbc41\"],[0.9,\"#4d9221\"],[1,\"#276419\"]],\"sequential\":[[0.0,\"#0d0887\"],[0.1111111111111111,\"#46039f\"],[0.2222222222222222,\"#7201a8\"],[0.3333333333333333,\"#9c179e\"],[0.4444444444444444,\"#bd3786\"],[0.5555555555555556,\"#d8576b\"],[0.6666666666666666,\"#ed7953\"],[0.7777777777777778,\"#fb9f3a\"],[0.8888888888888888,\"#fdca26\"],[1.0,\"#f0f921\"]],\"sequentialminus\":[[0.0,\"#0d0887\"],[0.1111111111111111,\"#46039f\"],[0.2222222222222222,\"#7201a8\"],[0.3333333333333333,\"#9c179e\"],[0.4444444444444444,\"#bd3786\"],[0.5555555555555556,\"#d8576b\"],[0.6666666666666666,\"#ed7953\"],[0.7777777777777778,\"#fb9f3a\"],[0.8888888888888888,\"#fdca26\"],[1.0,\"#f0f921\"]]},\"colorway\":[\"#636efa\",\"#EF553B\",\"#00cc96\",\"#ab63fa\",\"#FFA15A\",\"#19d3f3\",\"#FF6692\",\"#B6E880\",\"#FF97FF\",\"#FECB52\"],\"font\":{\"color\":\"#2a3f5f\"},\"geo\":{\"bgcolor\":\"white\",\"lakecolor\":\"white\",\"landcolor\":\"#E5ECF6\",\"showlakes\":true,\"showland\":true,\"subunitcolor\":\"white\"},\"hoverlabel\":{\"align\":\"left\"},\"hovermode\":\"closest\",\"mapbox\":{\"style\":\"light\"},\"paper_bgcolor\":\"white\",\"plot_bgcolor\":\"#E5ECF6\",\"polar\":{\"angularaxis\":{\"gridcolor\":\"white\",\"linecolor\":\"white\",\"ticks\":\"\"},\"bgcolor\":\"#E5ECF6\",\"radialaxis\":{\"gridcolor\":\"white\",\"linecolor\":\"white\",\"ticks\":\"\"}},\"scene\":{\"xaxis\":{\"backgroundcolor\":\"#E5ECF6\",\"gridcolor\":\"white\",\"gridwidth\":2,\"linecolor\":\"white\",\"showbackground\":true,\"ticks\":\"\",\"zerolinecolor\":\"white\"},\"yaxis\":{\"backgroundcolor\":\"#E5ECF6\",\"gridcolor\":\"white\",\"gridwidth\":2,\"linecolor\":\"white\",\"showbackground\":true,\"ticks\":\"\",\"zerolinecolor\":\"white\"},\"zaxis\":{\"backgroundcolor\":\"#E5ECF6\",\"gridcolor\":\"white\",\"gridwidth\":2,\"linecolor\":\"white\",\"showbackground\":true,\"ticks\":\"\",\"zerolinecolor\":\"white\"}},\"shapedefaults\":{\"line\":{\"color\":\"#2a3f5f\"}},\"ternary\":{\"aaxis\":{\"gridcolor\":\"white\",\"linecolor\":\"white\",\"ticks\":\"\"},\"baxis\":{\"gridcolor\":\"white\",\"linecolor\":\"white\",\"ticks\":\"\"},\"bgcolor\":\"#E5ECF6\",\"caxis\":{\"gridcolor\":\"white\",\"linecolor\":\"white\",\"ticks\":\"\"}},\"title\":{\"x\":0.05},\"xaxis\":{\"automargin\":true,\"gridcolor\":\"white\",\"linecolor\":\"white\",\"ticks\":\"\",\"title\":{\"standoff\":15},\"zerolinecolor\":\"white\",\"zerolinewidth\":2},\"yaxis\":{\"automargin\":true,\"gridcolor\":\"white\",\"linecolor\":\"white\",\"ticks\":\"\",\"title\":{\"standoff\":15},\"zerolinecolor\":\"white\",\"zerolinewidth\":2}}}},                        {\"responsive\": true}                    ).then(function(){\n",
              "                            \n",
              "var gd = document.getElementById('95a2e958-0ce1-497b-9cf3-78a32748c0de');\n",
              "var x = new MutationObserver(function (mutations, observer) {{\n",
              "        var display = window.getComputedStyle(gd).display;\n",
              "        if (!display || display === 'none') {{\n",
              "            console.log([gd, 'removed!']);\n",
              "            Plotly.purge(gd);\n",
              "            observer.disconnect();\n",
              "        }}\n",
              "}});\n",
              "\n",
              "// Listen for the removal of the full notebook cells\n",
              "var notebookContainer = gd.closest('#notebook-container');\n",
              "if (notebookContainer) {{\n",
              "    x.observe(notebookContainer, {childList: true});\n",
              "}}\n",
              "\n",
              "// Listen for the clearing of the current output cell\n",
              "var outputEl = gd.closest('.output');\n",
              "if (outputEl) {{\n",
              "    x.observe(outputEl, {childList: true});\n",
              "}}\n",
              "\n",
              "                        })                };                            </script>        </div>\n",
              "</body>\n",
              "</html>"
            ]
          },
          "metadata": {}
        }
      ],
      "source": [
        "fig = go.Figure()\n",
        "fig = go.Figure(go.Funnel(\n",
        "    y = funnel['event_name'],\n",
        "    x = funnel['total_users']))\n",
        "fig.show()"
      ]
    },
    {
      "cell_type": "markdown",
      "metadata": {
        "id": "unEAGfEH5UEJ"
      },
      "source": [
        "**5) на каком шаге теряете больше всего пользователей?**\n",
        "\n",
        "Больше всего пользователей теряется на этапе \"главный экран\"\n",
        "\n",
        "**6) какая доля пользователей доходит от первого события до оплаты?**\n",
        "\n",
        "47.8% пользователей начального этапа"
      ]
    },
    {
      "cell_type": "markdown",
      "metadata": {
        "id": "sTC6WD9w5uiy"
      },
      "source": [
        "### **Изучите результаты эксперимента**"
      ]
    },
    {
      "cell_type": "markdown",
      "metadata": {
        "id": "DYUW0hFN508B"
      },
      "source": [
        "**1) Сколько пользователей в каждой экспериментальной группе?**"
      ]
    },
    {
      "cell_type": "code",
      "execution_count": null,
      "metadata": {
        "colab": {
          "base_uri": "https://localhost:8080/"
        },
        "id": "mnQva8E75zJr",
        "outputId": "10cc66bf-89d4-4ce7-cc42-4a6f7a5e9330"
      },
      "outputs": [
        {
          "output_type": "execute_result",
          "data": {
            "text/plain": [
              "exp_id\n",
              "246    2480\n",
              "247    2508\n",
              "248    2533\n",
              "Name: user_id, dtype: int64"
            ]
          },
          "metadata": {},
          "execution_count": 34
        }
      ],
      "source": [
        "users = df_clean.groupby('exp_id')['user_id'].nunique()\n",
        "users"
      ]
    },
    {
      "cell_type": "markdown",
      "metadata": {
        "id": "VX6e_MmhnfvV"
      },
      "source": [
        "Группы незначительно различаются по численности: 246-2480, 247-2508, 248-2533."
      ]
    },
    {
      "cell_type": "markdown",
      "metadata": {
        "id": "JQ5Dgols59xE"
      },
      "source": [
        "**2) есть 2 контрольные группы для А/А-эксперимента, чтобы проверить корректность всех механизмов и расчётов**\n",
        "\n",
        "Проверьте, находят ли статистические критерии разницу между выборками 246 и 247.\n",
        "\n",
        "*Критерии успешного A/A-теста:*\n",
        "\n",
        "\n",
        "*   Количество пользователей, попавших в различные группы, отличается\n",
        "не более, чем на 0.5%\n",
        "*   Данные во всех группах отправляются в системы аналитики\n",
        "одинаково\n",
        "*   Различие ключевых метрик по группам не более 1% и не имеет\n",
        "статистической значимости\n",
        "*   Каждый посетитель, попавший в одну из групп теста, остаётся в этой\n",
        "группе до конца теста. Если пользователь видит разные вариации\n",
        "A/B теста в течение одного исследования, неизвестно, какая из них\n",
        "повлияла на него. Значит, и результаты теста нельзя\n",
        "интерпретировать однозначно."
      ]
    },
    {
      "cell_type": "code",
      "execution_count": null,
      "metadata": {
        "id": "S0OcwCZrqng9"
      },
      "outputs": [],
      "source": [
        "# выведем пользователей групп в отдельные сеты, сбросив при этом все события туториала\n",
        "exp_246 = df_clean[(df_clean['exp_id'] == 246) & (df_clean['event_name'] != 'Tutorial')]\n",
        "exp_247 = df_clean[(df_clean['exp_id'] == 247) & (df_clean['event_name'] != 'Tutorial')]\n",
        "exp_248 = df_clean[(df_clean['exp_id'] == 248) & (df_clean['event_name'] != 'Tutorial')]"
      ]
    },
    {
      "cell_type": "markdown",
      "metadata": {
        "id": "q4JhLDZirmvt"
      },
      "source": [
        "*Количество пользователей, попавших в различные группы, отличается не более, чем на 0.5%.*"
      ]
    },
    {
      "cell_type": "code",
      "execution_count": null,
      "metadata": {
        "colab": {
          "base_uri": "https://localhost:8080/"
        },
        "id": "f8a3wnAurtJA",
        "outputId": "9a06d75d-e419-4f9a-d025-9045dbc91a95"
      },
      "outputs": [
        {
          "output_type": "stream",
          "name": "stdout",
          "text": [
            "Разница между групп АА-теста составляет 1.1168727562824046 %\n"
          ]
        }
      ],
      "source": [
        "AA_perc = 100 - (exp_246['user_id'].nunique() / exp_247['user_id'].nunique() * 100)\n",
        "print('Разница между групп АА-теста составляет {} %'.format(AA_perc))"
      ]
    },
    {
      "cell_type": "markdown",
      "metadata": {
        "id": "tbsWa5Tjtc3-"
      },
      "source": [
        "*Данные во всех группах отправляются в системы аналитики одинаково. Различие ключевых метрик по группам не более 1% и не имеет статистической значимости.*\n",
        "\n",
        "Построим для каждой группы воронку событий и сопоставим их вместе"
      ]
    },
    {
      "cell_type": "code",
      "execution_count": null,
      "metadata": {
        "colab": {
          "base_uri": "https://localhost:8080/",
          "height": 542
        },
        "id": "V4vtmvEQ8P6i",
        "outputId": "89c60652-76e6-442d-9706-911b5826845c"
      },
      "outputs": [
        {
          "output_type": "display_data",
          "data": {
            "text/html": [
              "<html>\n",
              "<head><meta charset=\"utf-8\" /></head>\n",
              "<body>\n",
              "    <div>            <script src=\"https://cdnjs.cloudflare.com/ajax/libs/mathjax/2.7.5/MathJax.js?config=TeX-AMS-MML_SVG\"></script><script type=\"text/javascript\">if (window.MathJax) {MathJax.Hub.Config({SVG: {font: \"STIX-Web\"}});}</script>                <script type=\"text/javascript\">window.PlotlyConfig = {MathJaxConfig: 'local'};</script>\n",
              "        <script src=\"https://cdn.plot.ly/plotly-2.8.3.min.js\"></script>                <div id=\"26b9a6bf-eea6-4e0c-8728-6abb51942534\" class=\"plotly-graph-div\" style=\"height:525px; width:100%;\"></div>            <script type=\"text/javascript\">                                    window.PLOTLYENV=window.PLOTLYENV || {};                                    if (document.getElementById(\"26b9a6bf-eea6-4e0c-8728-6abb51942534\")) {                    Plotly.newPlot(                        \"26b9a6bf-eea6-4e0c-8728-6abb51942534\",                        [{\"name\":\"exp 246\",\"x\":[2439,1536,1265,1196],\"y\":[\"MainScreenAppear\",\"OffersScreenAppear\",\"CartScreenAppear\",\"PaymentScreenSuccessful\"],\"type\":\"funnel\"},{\"name\":\"exp 247\",\"x\":[2466,1514,1236,1154],\"y\":[\"MainScreenAppear\",\"OffersScreenAppear\",\"CartScreenAppear\",\"PaymentScreenSuccessful\"],\"type\":\"funnel\"},{\"name\":\"exp 248\",\"x\":[2484,1521,1228,1179],\"y\":[\"MainScreenAppear\",\"OffersScreenAppear\",\"CartScreenAppear\",\"PaymentScreenSuccessful\"],\"type\":\"funnel\"}],                        {\"template\":{\"data\":{\"bar\":[{\"error_x\":{\"color\":\"#2a3f5f\"},\"error_y\":{\"color\":\"#2a3f5f\"},\"marker\":{\"line\":{\"color\":\"#E5ECF6\",\"width\":0.5},\"pattern\":{\"fillmode\":\"overlay\",\"size\":10,\"solidity\":0.2}},\"type\":\"bar\"}],\"barpolar\":[{\"marker\":{\"line\":{\"color\":\"#E5ECF6\",\"width\":0.5},\"pattern\":{\"fillmode\":\"overlay\",\"size\":10,\"solidity\":0.2}},\"type\":\"barpolar\"}],\"carpet\":[{\"aaxis\":{\"endlinecolor\":\"#2a3f5f\",\"gridcolor\":\"white\",\"linecolor\":\"white\",\"minorgridcolor\":\"white\",\"startlinecolor\":\"#2a3f5f\"},\"baxis\":{\"endlinecolor\":\"#2a3f5f\",\"gridcolor\":\"white\",\"linecolor\":\"white\",\"minorgridcolor\":\"white\",\"startlinecolor\":\"#2a3f5f\"},\"type\":\"carpet\"}],\"choropleth\":[{\"colorbar\":{\"outlinewidth\":0,\"ticks\":\"\"},\"type\":\"choropleth\"}],\"contour\":[{\"colorbar\":{\"outlinewidth\":0,\"ticks\":\"\"},\"colorscale\":[[0.0,\"#0d0887\"],[0.1111111111111111,\"#46039f\"],[0.2222222222222222,\"#7201a8\"],[0.3333333333333333,\"#9c179e\"],[0.4444444444444444,\"#bd3786\"],[0.5555555555555556,\"#d8576b\"],[0.6666666666666666,\"#ed7953\"],[0.7777777777777778,\"#fb9f3a\"],[0.8888888888888888,\"#fdca26\"],[1.0,\"#f0f921\"]],\"type\":\"contour\"}],\"contourcarpet\":[{\"colorbar\":{\"outlinewidth\":0,\"ticks\":\"\"},\"type\":\"contourcarpet\"}],\"heatmap\":[{\"colorbar\":{\"outlinewidth\":0,\"ticks\":\"\"},\"colorscale\":[[0.0,\"#0d0887\"],[0.1111111111111111,\"#46039f\"],[0.2222222222222222,\"#7201a8\"],[0.3333333333333333,\"#9c179e\"],[0.4444444444444444,\"#bd3786\"],[0.5555555555555556,\"#d8576b\"],[0.6666666666666666,\"#ed7953\"],[0.7777777777777778,\"#fb9f3a\"],[0.8888888888888888,\"#fdca26\"],[1.0,\"#f0f921\"]],\"type\":\"heatmap\"}],\"heatmapgl\":[{\"colorbar\":{\"outlinewidth\":0,\"ticks\":\"\"},\"colorscale\":[[0.0,\"#0d0887\"],[0.1111111111111111,\"#46039f\"],[0.2222222222222222,\"#7201a8\"],[0.3333333333333333,\"#9c179e\"],[0.4444444444444444,\"#bd3786\"],[0.5555555555555556,\"#d8576b\"],[0.6666666666666666,\"#ed7953\"],[0.7777777777777778,\"#fb9f3a\"],[0.8888888888888888,\"#fdca26\"],[1.0,\"#f0f921\"]],\"type\":\"heatmapgl\"}],\"histogram\":[{\"marker\":{\"pattern\":{\"fillmode\":\"overlay\",\"size\":10,\"solidity\":0.2}},\"type\":\"histogram\"}],\"histogram2d\":[{\"colorbar\":{\"outlinewidth\":0,\"ticks\":\"\"},\"colorscale\":[[0.0,\"#0d0887\"],[0.1111111111111111,\"#46039f\"],[0.2222222222222222,\"#7201a8\"],[0.3333333333333333,\"#9c179e\"],[0.4444444444444444,\"#bd3786\"],[0.5555555555555556,\"#d8576b\"],[0.6666666666666666,\"#ed7953\"],[0.7777777777777778,\"#fb9f3a\"],[0.8888888888888888,\"#fdca26\"],[1.0,\"#f0f921\"]],\"type\":\"histogram2d\"}],\"histogram2dcontour\":[{\"colorbar\":{\"outlinewidth\":0,\"ticks\":\"\"},\"colorscale\":[[0.0,\"#0d0887\"],[0.1111111111111111,\"#46039f\"],[0.2222222222222222,\"#7201a8\"],[0.3333333333333333,\"#9c179e\"],[0.4444444444444444,\"#bd3786\"],[0.5555555555555556,\"#d8576b\"],[0.6666666666666666,\"#ed7953\"],[0.7777777777777778,\"#fb9f3a\"],[0.8888888888888888,\"#fdca26\"],[1.0,\"#f0f921\"]],\"type\":\"histogram2dcontour\"}],\"mesh3d\":[{\"colorbar\":{\"outlinewidth\":0,\"ticks\":\"\"},\"type\":\"mesh3d\"}],\"parcoords\":[{\"line\":{\"colorbar\":{\"outlinewidth\":0,\"ticks\":\"\"}},\"type\":\"parcoords\"}],\"pie\":[{\"automargin\":true,\"type\":\"pie\"}],\"scatter\":[{\"marker\":{\"colorbar\":{\"outlinewidth\":0,\"ticks\":\"\"}},\"type\":\"scatter\"}],\"scatter3d\":[{\"line\":{\"colorbar\":{\"outlinewidth\":0,\"ticks\":\"\"}},\"marker\":{\"colorbar\":{\"outlinewidth\":0,\"ticks\":\"\"}},\"type\":\"scatter3d\"}],\"scattercarpet\":[{\"marker\":{\"colorbar\":{\"outlinewidth\":0,\"ticks\":\"\"}},\"type\":\"scattercarpet\"}],\"scattergeo\":[{\"marker\":{\"colorbar\":{\"outlinewidth\":0,\"ticks\":\"\"}},\"type\":\"scattergeo\"}],\"scattergl\":[{\"marker\":{\"colorbar\":{\"outlinewidth\":0,\"ticks\":\"\"}},\"type\":\"scattergl\"}],\"scattermapbox\":[{\"marker\":{\"colorbar\":{\"outlinewidth\":0,\"ticks\":\"\"}},\"type\":\"scattermapbox\"}],\"scatterpolar\":[{\"marker\":{\"colorbar\":{\"outlinewidth\":0,\"ticks\":\"\"}},\"type\":\"scatterpolar\"}],\"scatterpolargl\":[{\"marker\":{\"colorbar\":{\"outlinewidth\":0,\"ticks\":\"\"}},\"type\":\"scatterpolargl\"}],\"scatterternary\":[{\"marker\":{\"colorbar\":{\"outlinewidth\":0,\"ticks\":\"\"}},\"type\":\"scatterternary\"}],\"surface\":[{\"colorbar\":{\"outlinewidth\":0,\"ticks\":\"\"},\"colorscale\":[[0.0,\"#0d0887\"],[0.1111111111111111,\"#46039f\"],[0.2222222222222222,\"#7201a8\"],[0.3333333333333333,\"#9c179e\"],[0.4444444444444444,\"#bd3786\"],[0.5555555555555556,\"#d8576b\"],[0.6666666666666666,\"#ed7953\"],[0.7777777777777778,\"#fb9f3a\"],[0.8888888888888888,\"#fdca26\"],[1.0,\"#f0f921\"]],\"type\":\"surface\"}],\"table\":[{\"cells\":{\"fill\":{\"color\":\"#EBF0F8\"},\"line\":{\"color\":\"white\"}},\"header\":{\"fill\":{\"color\":\"#C8D4E3\"},\"line\":{\"color\":\"white\"}},\"type\":\"table\"}]},\"layout\":{\"annotationdefaults\":{\"arrowcolor\":\"#2a3f5f\",\"arrowhead\":0,\"arrowwidth\":1},\"autotypenumbers\":\"strict\",\"coloraxis\":{\"colorbar\":{\"outlinewidth\":0,\"ticks\":\"\"}},\"colorscale\":{\"diverging\":[[0,\"#8e0152\"],[0.1,\"#c51b7d\"],[0.2,\"#de77ae\"],[0.3,\"#f1b6da\"],[0.4,\"#fde0ef\"],[0.5,\"#f7f7f7\"],[0.6,\"#e6f5d0\"],[0.7,\"#b8e186\"],[0.8,\"#7fbc41\"],[0.9,\"#4d9221\"],[1,\"#276419\"]],\"sequential\":[[0.0,\"#0d0887\"],[0.1111111111111111,\"#46039f\"],[0.2222222222222222,\"#7201a8\"],[0.3333333333333333,\"#9c179e\"],[0.4444444444444444,\"#bd3786\"],[0.5555555555555556,\"#d8576b\"],[0.6666666666666666,\"#ed7953\"],[0.7777777777777778,\"#fb9f3a\"],[0.8888888888888888,\"#fdca26\"],[1.0,\"#f0f921\"]],\"sequentialminus\":[[0.0,\"#0d0887\"],[0.1111111111111111,\"#46039f\"],[0.2222222222222222,\"#7201a8\"],[0.3333333333333333,\"#9c179e\"],[0.4444444444444444,\"#bd3786\"],[0.5555555555555556,\"#d8576b\"],[0.6666666666666666,\"#ed7953\"],[0.7777777777777778,\"#fb9f3a\"],[0.8888888888888888,\"#fdca26\"],[1.0,\"#f0f921\"]]},\"colorway\":[\"#636efa\",\"#EF553B\",\"#00cc96\",\"#ab63fa\",\"#FFA15A\",\"#19d3f3\",\"#FF6692\",\"#B6E880\",\"#FF97FF\",\"#FECB52\"],\"font\":{\"color\":\"#2a3f5f\"},\"geo\":{\"bgcolor\":\"white\",\"lakecolor\":\"white\",\"landcolor\":\"#E5ECF6\",\"showlakes\":true,\"showland\":true,\"subunitcolor\":\"white\"},\"hoverlabel\":{\"align\":\"left\"},\"hovermode\":\"closest\",\"mapbox\":{\"style\":\"light\"},\"paper_bgcolor\":\"white\",\"plot_bgcolor\":\"#E5ECF6\",\"polar\":{\"angularaxis\":{\"gridcolor\":\"white\",\"linecolor\":\"white\",\"ticks\":\"\"},\"bgcolor\":\"#E5ECF6\",\"radialaxis\":{\"gridcolor\":\"white\",\"linecolor\":\"white\",\"ticks\":\"\"}},\"scene\":{\"xaxis\":{\"backgroundcolor\":\"#E5ECF6\",\"gridcolor\":\"white\",\"gridwidth\":2,\"linecolor\":\"white\",\"showbackground\":true,\"ticks\":\"\",\"zerolinecolor\":\"white\"},\"yaxis\":{\"backgroundcolor\":\"#E5ECF6\",\"gridcolor\":\"white\",\"gridwidth\":2,\"linecolor\":\"white\",\"showbackground\":true,\"ticks\":\"\",\"zerolinecolor\":\"white\"},\"zaxis\":{\"backgroundcolor\":\"#E5ECF6\",\"gridcolor\":\"white\",\"gridwidth\":2,\"linecolor\":\"white\",\"showbackground\":true,\"ticks\":\"\",\"zerolinecolor\":\"white\"}},\"shapedefaults\":{\"line\":{\"color\":\"#2a3f5f\"}},\"ternary\":{\"aaxis\":{\"gridcolor\":\"white\",\"linecolor\":\"white\",\"ticks\":\"\"},\"baxis\":{\"gridcolor\":\"white\",\"linecolor\":\"white\",\"ticks\":\"\"},\"bgcolor\":\"#E5ECF6\",\"caxis\":{\"gridcolor\":\"white\",\"linecolor\":\"white\",\"ticks\":\"\"}},\"title\":{\"x\":0.05},\"xaxis\":{\"automargin\":true,\"gridcolor\":\"white\",\"linecolor\":\"white\",\"ticks\":\"\",\"title\":{\"standoff\":15},\"zerolinecolor\":\"white\",\"zerolinewidth\":2},\"yaxis\":{\"automargin\":true,\"gridcolor\":\"white\",\"linecolor\":\"white\",\"ticks\":\"\",\"title\":{\"standoff\":15},\"zerolinecolor\":\"white\",\"zerolinewidth\":2}}}},                        {\"responsive\": true}                    ).then(function(){\n",
              "                            \n",
              "var gd = document.getElementById('26b9a6bf-eea6-4e0c-8728-6abb51942534');\n",
              "var x = new MutationObserver(function (mutations, observer) {{\n",
              "        var display = window.getComputedStyle(gd).display;\n",
              "        if (!display || display === 'none') {{\n",
              "            console.log([gd, 'removed!']);\n",
              "            Plotly.purge(gd);\n",
              "            observer.disconnect();\n",
              "        }}\n",
              "}});\n",
              "\n",
              "// Listen for the removal of the full notebook cells\n",
              "var notebookContainer = gd.closest('#notebook-container');\n",
              "if (notebookContainer) {{\n",
              "    x.observe(notebookContainer, {childList: true});\n",
              "}}\n",
              "\n",
              "// Listen for the clearing of the current output cell\n",
              "var outputEl = gd.closest('.output');\n",
              "if (outputEl) {{\n",
              "    x.observe(outputEl, {childList: true});\n",
              "}}\n",
              "\n",
              "                        })                };                            </script>        </div>\n",
              "</body>\n",
              "</html>"
            ]
          },
          "metadata": {}
        }
      ],
      "source": [
        "funnel_246 = exp_246.groupby('event_name')['user_id'].nunique().sort_values(ascending=False).to_frame().reset_index()\\\n",
        "        .rename(columns={'user_id': 'total_users'})\n",
        "funnel_247 = exp_247.groupby('event_name')['user_id'].nunique().sort_values(ascending=False).to_frame().reset_index()\\\n",
        "        .rename(columns={'user_id': 'total_users'})\n",
        "funnel_248 = exp_248.groupby('event_name')['user_id'].nunique().sort_values(ascending=False).to_frame().reset_index()\\\n",
        "        .rename(columns={'user_id': 'total_users'})\n",
        "fig = go.Figure()\n",
        "\n",
        "fig.add_trace(go.Funnel(\n",
        "    name = 'exp 246',\n",
        "    y = funnel_246['event_name'],\n",
        "    x = funnel_246['total_users'],\n",
        "    ))\n",
        "\n",
        "fig.add_trace(go.Funnel(\n",
        "    name = 'exp 247',\n",
        "    y = funnel_247['event_name'],\n",
        "    x = funnel_247['total_users'],\n",
        "    ))\n",
        "\n",
        "fig.add_trace(go.Funnel(\n",
        "    name = 'exp 248',\n",
        "    y = funnel_248['event_name'],\n",
        "    x = funnel_248['total_users'],\n",
        "    ))\n",
        "\n",
        "fig.show()"
      ]
    },
    {
      "cell_type": "markdown",
      "metadata": {
        "id": "8A0YPyCw8Sh5"
      },
      "source": [
        "*Каждый посетитель, попавший в одну из групп теста, остаётся в этой группе до конца теста*\n",
        "\n",
        "Этот вопрос мы решили на предобработке данных, проверив группы на совпадения по пользователям.\n",
        "\n",
        "ИТОГО:\n",
        "\n",
        "Критерии соблюдены не полноценно: есть разница в группах по проценту. Но прочие критерии позволяют использовать группы далее."
      ]
    },
    {
      "cell_type": "markdown",
      "metadata": {
        "id": "yPnKatny8blK"
      },
      "source": [
        "**3) Выберите самое популярное событие**\n",
        "\n",
        "Посчитайте число пользователей, совершивших это событие в каждой из контрольных групп. \n",
        "\n",
        "Посчитайте долю пользователей, совершивших это событие. \n",
        "\n",
        "Проверьте, будет ли отличие между группами статистически достоверным. \n",
        "\n",
        "Проделайте то же самое для всех других событий (удобно обернуть проверку в отдельную функцию). \n",
        "\n",
        "Можно ли сказать, что разбиение на группы работает корректно?"
      ]
    },
    {
      "cell_type": "markdown",
      "metadata": {
        "id": "ie_n019xyRQd"
      },
      "source": [
        "Самое популярное событие: главный экран. \n",
        "\n",
        "Выполним рассчёты в сводной таблице"
      ]
    },
    {
      "cell_type": "code",
      "execution_count": null,
      "metadata": {
        "colab": {
          "base_uri": "https://localhost:8080/",
          "height": 206
        },
        "id": "fO00j6ae8qOy",
        "outputId": "318a3d96-e9f4-465d-cca3-86b6fd86551c"
      },
      "outputs": [
        {
          "output_type": "execute_result",
          "data": {
            "text/plain": [
              "exp_id                    246   247   248  246+247\n",
              "event_name                                        \n",
              "MainScreenAppear         2439  2466  2484     4905\n",
              "OffersScreenAppear       1536  1514  1521     3050\n",
              "CartScreenAppear         1265  1236  1228     2501\n",
              "PaymentScreenSuccessful  1196  1154  1179     2350"
            ],
            "text/html": [
              "\n",
              "  <div id=\"df-5c968312-db45-4e1d-ab9f-983eb2646e75\">\n",
              "    <div class=\"colab-df-container\">\n",
              "      <div>\n",
              "<style scoped>\n",
              "    .dataframe tbody tr th:only-of-type {\n",
              "        vertical-align: middle;\n",
              "    }\n",
              "\n",
              "    .dataframe tbody tr th {\n",
              "        vertical-align: top;\n",
              "    }\n",
              "\n",
              "    .dataframe thead th {\n",
              "        text-align: right;\n",
              "    }\n",
              "</style>\n",
              "<table border=\"1\" class=\"dataframe\">\n",
              "  <thead>\n",
              "    <tr style=\"text-align: right;\">\n",
              "      <th>exp_id</th>\n",
              "      <th>246</th>\n",
              "      <th>247</th>\n",
              "      <th>248</th>\n",
              "      <th>246+247</th>\n",
              "    </tr>\n",
              "    <tr>\n",
              "      <th>event_name</th>\n",
              "      <th></th>\n",
              "      <th></th>\n",
              "      <th></th>\n",
              "      <th></th>\n",
              "    </tr>\n",
              "  </thead>\n",
              "  <tbody>\n",
              "    <tr>\n",
              "      <th>MainScreenAppear</th>\n",
              "      <td>2439</td>\n",
              "      <td>2466</td>\n",
              "      <td>2484</td>\n",
              "      <td>4905</td>\n",
              "    </tr>\n",
              "    <tr>\n",
              "      <th>OffersScreenAppear</th>\n",
              "      <td>1536</td>\n",
              "      <td>1514</td>\n",
              "      <td>1521</td>\n",
              "      <td>3050</td>\n",
              "    </tr>\n",
              "    <tr>\n",
              "      <th>CartScreenAppear</th>\n",
              "      <td>1265</td>\n",
              "      <td>1236</td>\n",
              "      <td>1228</td>\n",
              "      <td>2501</td>\n",
              "    </tr>\n",
              "    <tr>\n",
              "      <th>PaymentScreenSuccessful</th>\n",
              "      <td>1196</td>\n",
              "      <td>1154</td>\n",
              "      <td>1179</td>\n",
              "      <td>2350</td>\n",
              "    </tr>\n",
              "  </tbody>\n",
              "</table>\n",
              "</div>\n",
              "      <button class=\"colab-df-convert\" onclick=\"convertToInteractive('df-5c968312-db45-4e1d-ab9f-983eb2646e75')\"\n",
              "              title=\"Convert this dataframe to an interactive table.\"\n",
              "              style=\"display:none;\">\n",
              "        \n",
              "  <svg xmlns=\"http://www.w3.org/2000/svg\" height=\"24px\"viewBox=\"0 0 24 24\"\n",
              "       width=\"24px\">\n",
              "    <path d=\"M0 0h24v24H0V0z\" fill=\"none\"/>\n",
              "    <path d=\"M18.56 5.44l.94 2.06.94-2.06 2.06-.94-2.06-.94-.94-2.06-.94 2.06-2.06.94zm-11 1L8.5 8.5l.94-2.06 2.06-.94-2.06-.94L8.5 2.5l-.94 2.06-2.06.94zm10 10l.94 2.06.94-2.06 2.06-.94-2.06-.94-.94-2.06-.94 2.06-2.06.94z\"/><path d=\"M17.41 7.96l-1.37-1.37c-.4-.4-.92-.59-1.43-.59-.52 0-1.04.2-1.43.59L10.3 9.45l-7.72 7.72c-.78.78-.78 2.05 0 2.83L4 21.41c.39.39.9.59 1.41.59.51 0 1.02-.2 1.41-.59l7.78-7.78 2.81-2.81c.8-.78.8-2.07 0-2.86zM5.41 20L4 18.59l7.72-7.72 1.47 1.35L5.41 20z\"/>\n",
              "  </svg>\n",
              "      </button>\n",
              "      \n",
              "  <style>\n",
              "    .colab-df-container {\n",
              "      display:flex;\n",
              "      flex-wrap:wrap;\n",
              "      gap: 12px;\n",
              "    }\n",
              "\n",
              "    .colab-df-convert {\n",
              "      background-color: #E8F0FE;\n",
              "      border: none;\n",
              "      border-radius: 50%;\n",
              "      cursor: pointer;\n",
              "      display: none;\n",
              "      fill: #1967D2;\n",
              "      height: 32px;\n",
              "      padding: 0 0 0 0;\n",
              "      width: 32px;\n",
              "    }\n",
              "\n",
              "    .colab-df-convert:hover {\n",
              "      background-color: #E2EBFA;\n",
              "      box-shadow: 0px 1px 2px rgba(60, 64, 67, 0.3), 0px 1px 3px 1px rgba(60, 64, 67, 0.15);\n",
              "      fill: #174EA6;\n",
              "    }\n",
              "\n",
              "    [theme=dark] .colab-df-convert {\n",
              "      background-color: #3B4455;\n",
              "      fill: #D2E3FC;\n",
              "    }\n",
              "\n",
              "    [theme=dark] .colab-df-convert:hover {\n",
              "      background-color: #434B5C;\n",
              "      box-shadow: 0px 1px 3px 1px rgba(0, 0, 0, 0.15);\n",
              "      filter: drop-shadow(0px 1px 2px rgba(0, 0, 0, 0.3));\n",
              "      fill: #FFFFFF;\n",
              "    }\n",
              "  </style>\n",
              "\n",
              "      <script>\n",
              "        const buttonEl =\n",
              "          document.querySelector('#df-5c968312-db45-4e1d-ab9f-983eb2646e75 button.colab-df-convert');\n",
              "        buttonEl.style.display =\n",
              "          google.colab.kernel.accessAllowed ? 'block' : 'none';\n",
              "\n",
              "        async function convertToInteractive(key) {\n",
              "          const element = document.querySelector('#df-5c968312-db45-4e1d-ab9f-983eb2646e75');\n",
              "          const dataTable =\n",
              "            await google.colab.kernel.invokeFunction('convertToInteractive',\n",
              "                                                     [key], {});\n",
              "          if (!dataTable) return;\n",
              "\n",
              "          const docLinkHtml = 'Like what you see? Visit the ' +\n",
              "            '<a target=\"_blank\" href=https://colab.research.google.com/notebooks/data_table.ipynb>data table notebook</a>'\n",
              "            + ' to learn more about interactive tables.';\n",
              "          element.innerHTML = '';\n",
              "          dataTable['output_type'] = 'display_data';\n",
              "          await google.colab.output.renderOutput(dataTable, element);\n",
              "          const docLink = document.createElement('div');\n",
              "          docLink.innerHTML = docLinkHtml;\n",
              "          element.appendChild(docLink);\n",
              "        }\n",
              "      </script>\n",
              "    </div>\n",
              "  </div>\n",
              "  "
            ]
          },
          "metadata": {},
          "execution_count": 38
        }
      ],
      "source": [
        "all_funnels = df_clean.pivot_table(index='event_name', columns='exp_id',values='user_id',aggfunc='nunique')\\\n",
        "                       .sort_values(246,ascending=False)\n",
        "all_funnels['246+247'] = all_funnels[246] + all_funnels[247]\n",
        "all_funnels.drop(['Tutorial'], inplace=True)\n",
        "all_funnels"
      ]
    },
    {
      "cell_type": "code",
      "execution_count": null,
      "metadata": {
        "id": "sOBAdG9u8rDS"
      },
      "outputs": [],
      "source": [
        "users = users.to_frame().reset_index()\n",
        "users.loc[3] = ['246+247', 4997]"
      ]
    },
    {
      "cell_type": "code",
      "execution_count": null,
      "metadata": {
        "colab": {
          "base_uri": "https://localhost:8080/",
          "height": 206
        },
        "id": "_CllSPDJ8vha",
        "outputId": "a861791b-4830-4b22-9e37-95521b3f3143"
      },
      "outputs": [
        {
          "output_type": "execute_result",
          "data": {
            "text/plain": [
              "         user_id\n",
              "exp_id          \n",
              "246         2480\n",
              "247         2508\n",
              "248         2533\n",
              "246+247     4997"
            ],
            "text/html": [
              "\n",
              "  <div id=\"df-e2a79945-09bd-4394-8d54-b25a42b324ca\">\n",
              "    <div class=\"colab-df-container\">\n",
              "      <div>\n",
              "<style scoped>\n",
              "    .dataframe tbody tr th:only-of-type {\n",
              "        vertical-align: middle;\n",
              "    }\n",
              "\n",
              "    .dataframe tbody tr th {\n",
              "        vertical-align: top;\n",
              "    }\n",
              "\n",
              "    .dataframe thead th {\n",
              "        text-align: right;\n",
              "    }\n",
              "</style>\n",
              "<table border=\"1\" class=\"dataframe\">\n",
              "  <thead>\n",
              "    <tr style=\"text-align: right;\">\n",
              "      <th></th>\n",
              "      <th>user_id</th>\n",
              "    </tr>\n",
              "    <tr>\n",
              "      <th>exp_id</th>\n",
              "      <th></th>\n",
              "    </tr>\n",
              "  </thead>\n",
              "  <tbody>\n",
              "    <tr>\n",
              "      <th>246</th>\n",
              "      <td>2480</td>\n",
              "    </tr>\n",
              "    <tr>\n",
              "      <th>247</th>\n",
              "      <td>2508</td>\n",
              "    </tr>\n",
              "    <tr>\n",
              "      <th>248</th>\n",
              "      <td>2533</td>\n",
              "    </tr>\n",
              "    <tr>\n",
              "      <th>246+247</th>\n",
              "      <td>4997</td>\n",
              "    </tr>\n",
              "  </tbody>\n",
              "</table>\n",
              "</div>\n",
              "      <button class=\"colab-df-convert\" onclick=\"convertToInteractive('df-e2a79945-09bd-4394-8d54-b25a42b324ca')\"\n",
              "              title=\"Convert this dataframe to an interactive table.\"\n",
              "              style=\"display:none;\">\n",
              "        \n",
              "  <svg xmlns=\"http://www.w3.org/2000/svg\" height=\"24px\"viewBox=\"0 0 24 24\"\n",
              "       width=\"24px\">\n",
              "    <path d=\"M0 0h24v24H0V0z\" fill=\"none\"/>\n",
              "    <path d=\"M18.56 5.44l.94 2.06.94-2.06 2.06-.94-2.06-.94-.94-2.06-.94 2.06-2.06.94zm-11 1L8.5 8.5l.94-2.06 2.06-.94-2.06-.94L8.5 2.5l-.94 2.06-2.06.94zm10 10l.94 2.06.94-2.06 2.06-.94-2.06-.94-.94-2.06-.94 2.06-2.06.94z\"/><path d=\"M17.41 7.96l-1.37-1.37c-.4-.4-.92-.59-1.43-.59-.52 0-1.04.2-1.43.59L10.3 9.45l-7.72 7.72c-.78.78-.78 2.05 0 2.83L4 21.41c.39.39.9.59 1.41.59.51 0 1.02-.2 1.41-.59l7.78-7.78 2.81-2.81c.8-.78.8-2.07 0-2.86zM5.41 20L4 18.59l7.72-7.72 1.47 1.35L5.41 20z\"/>\n",
              "  </svg>\n",
              "      </button>\n",
              "      \n",
              "  <style>\n",
              "    .colab-df-container {\n",
              "      display:flex;\n",
              "      flex-wrap:wrap;\n",
              "      gap: 12px;\n",
              "    }\n",
              "\n",
              "    .colab-df-convert {\n",
              "      background-color: #E8F0FE;\n",
              "      border: none;\n",
              "      border-radius: 50%;\n",
              "      cursor: pointer;\n",
              "      display: none;\n",
              "      fill: #1967D2;\n",
              "      height: 32px;\n",
              "      padding: 0 0 0 0;\n",
              "      width: 32px;\n",
              "    }\n",
              "\n",
              "    .colab-df-convert:hover {\n",
              "      background-color: #E2EBFA;\n",
              "      box-shadow: 0px 1px 2px rgba(60, 64, 67, 0.3), 0px 1px 3px 1px rgba(60, 64, 67, 0.15);\n",
              "      fill: #174EA6;\n",
              "    }\n",
              "\n",
              "    [theme=dark] .colab-df-convert {\n",
              "      background-color: #3B4455;\n",
              "      fill: #D2E3FC;\n",
              "    }\n",
              "\n",
              "    [theme=dark] .colab-df-convert:hover {\n",
              "      background-color: #434B5C;\n",
              "      box-shadow: 0px 1px 3px 1px rgba(0, 0, 0, 0.15);\n",
              "      filter: drop-shadow(0px 1px 2px rgba(0, 0, 0, 0.3));\n",
              "      fill: #FFFFFF;\n",
              "    }\n",
              "  </style>\n",
              "\n",
              "      <script>\n",
              "        const buttonEl =\n",
              "          document.querySelector('#df-e2a79945-09bd-4394-8d54-b25a42b324ca button.colab-df-convert');\n",
              "        buttonEl.style.display =\n",
              "          google.colab.kernel.accessAllowed ? 'block' : 'none';\n",
              "\n",
              "        async function convertToInteractive(key) {\n",
              "          const element = document.querySelector('#df-e2a79945-09bd-4394-8d54-b25a42b324ca');\n",
              "          const dataTable =\n",
              "            await google.colab.kernel.invokeFunction('convertToInteractive',\n",
              "                                                     [key], {});\n",
              "          if (!dataTable) return;\n",
              "\n",
              "          const docLinkHtml = 'Like what you see? Visit the ' +\n",
              "            '<a target=\"_blank\" href=https://colab.research.google.com/notebooks/data_table.ipynb>data table notebook</a>'\n",
              "            + ' to learn more about interactive tables.';\n",
              "          element.innerHTML = '';\n",
              "          dataTable['output_type'] = 'display_data';\n",
              "          await google.colab.output.renderOutput(dataTable, element);\n",
              "          const docLink = document.createElement('div');\n",
              "          docLink.innerHTML = docLinkHtml;\n",
              "          element.appendChild(docLink);\n",
              "        }\n",
              "      </script>\n",
              "    </div>\n",
              "  </div>\n",
              "  "
            ]
          },
          "metadata": {},
          "execution_count": 40
        }
      ],
      "source": [
        "users = users.set_index(users.columns[0])\n",
        "users"
      ]
    },
    {
      "cell_type": "markdown",
      "metadata": {
        "id": "llqjpVKd3G2f"
      },
      "source": [
        "*Проверьте, будет ли отличие между группами статистически достоверным. \n",
        "Проделайте то же самое для всех других событий (удобно обернуть проверку в отдельную функцию).*\n",
        "\n",
        "Для проверки статистической значимости сформируем гипотезы:\n",
        "\n",
        "1) нулевая гипотеза: статистической разницы нет\n",
        "\n",
        "2) альтернативная гипотеза: группы статически различаются"
      ]
    },
    {
      "cell_type": "code",
      "execution_count": null,
      "metadata": {
        "id": "7KwCCdDa828K"
      },
      "outputs": [],
      "source": [
        "# построим функцию по проверке гипотезы на основе Z-критериев\n",
        "def z_test(exp1, exp2, event, alpha): \n",
        "    p1_ev = all_funnels.loc[event, exp1]\n",
        "    p2_ev = all_funnels.loc[event, exp2] \n",
        "    p1_us = users.loc[exp1, 'user_id'] \n",
        "    p2_us = users.loc[exp2, 'user_id'] \n",
        "    p1 = p1_ev / p1_us \n",
        "    p2 = p2_ev / p2_us \n",
        "    difference = p1 - p2\n",
        "    p_combined = (p1_ev + p2_ev) / (p1_us + p2_us) \n",
        "    z_value = difference / mth.sqrt(p_combined * (1 - p_combined) * (1 / p1_us + 1 / p2_us))\n",
        "    distr = st.norm(0, 1)\n",
        "    p_value = (1 - distr.cdf(abs(z_value))) * 2\n",
        "    print('Проверка для  {} и {}, событие: {}, p-значение: {p_value:.2f}'.format(exp1, exp2, event, p_value=p_value))\n",
        "    if (p_value < alpha):\n",
        "        print(\"Выявлена статистически значимая разница\")\n",
        "    else:\n",
        "        print(\"Статистически значимая разница не обнаружена\")"
      ]
    },
    {
      "cell_type": "code",
      "execution_count": null,
      "metadata": {
        "colab": {
          "base_uri": "https://localhost:8080/"
        },
        "id": "EwT0cPLN85Ii",
        "outputId": "29554dfc-2150-4082-ba2e-1bee14d3e058"
      },
      "outputs": [
        {
          "output_type": "stream",
          "name": "stdout",
          "text": [
            "Проверка для  246 и 247, событие: MainScreenAppear, p-значение: 0.95\n",
            "Статистически значимая разница не обнаружена\n",
            "\n",
            "Проверка для  246 и 247, событие: OffersScreenAppear, p-значение: 0.26\n",
            "Статистически значимая разница не обнаружена\n",
            "\n",
            "Проверка для  246 и 247, событие: CartScreenAppear, p-значение: 0.22\n",
            "Статистически значимая разница не обнаружена\n",
            "\n",
            "Проверка для  246 и 247, событие: PaymentScreenSuccessful, p-значение: 0.12\n",
            "Статистически значимая разница не обнаружена\n",
            "\n"
          ]
        }
      ],
      "source": [
        "for event in all_funnels.index:\n",
        "    z_test(246, 247, event, 0.05)\n",
        "    print()"
      ]
    },
    {
      "cell_type": "markdown",
      "metadata": {
        "id": "J2JtqLwj9IcJ"
      },
      "source": [
        "**4) Аналогично поступите с группой с изменённым шрифтом**\n",
        "\n",
        "Сравните результаты с каждой из контрольных групп в отдельности по каждому событию. Сравните результаты с объединённой контрольной группой. Какие выводы из эксперимента можно сделать?"
      ]
    },
    {
      "cell_type": "markdown",
      "metadata": {
        "id": "VvCBz9j85ese"
      },
      "source": [
        "Для проверки статистической значимости сформируем гипотезы:\n",
        "\n",
        "1) нулевая гипотеза: статистической разницы нет\n",
        "\n",
        "2) альтернативная гипотеза: группы статически различаются\n",
        "\n",
        "Вновь применим функцию"
      ]
    },
    {
      "cell_type": "code",
      "execution_count": null,
      "metadata": {
        "colab": {
          "base_uri": "https://localhost:8080/"
        },
        "id": "8DO10_d99N0x",
        "outputId": "83d21939-ab66-4c2d-faf2-bb04457ac8d7"
      },
      "outputs": [
        {
          "output_type": "stream",
          "name": "stdout",
          "text": [
            "Проверка для  246 и 248, событие: MainScreenAppear, p-значение: 0.45\n",
            "Статистически значимая разница не обнаружена\n",
            "\n",
            "Проверка для  246 и 248, событие: OffersScreenAppear, p-значение: 0.17\n",
            "Статистически значимая разница не обнаружена\n",
            "\n",
            "Проверка для  246 и 248, событие: CartScreenAppear, p-значение: 0.07\n",
            "Статистически значимая разница не обнаружена\n",
            "\n",
            "Проверка для  246 и 248, событие: PaymentScreenSuccessful, p-значение: 0.23\n",
            "Статистически значимая разница не обнаружена\n",
            "\n"
          ]
        }
      ],
      "source": [
        "for event in all_funnels.index:\n",
        "    z_test(246, 248, event, 0.05)\n",
        "    print()"
      ]
    },
    {
      "cell_type": "code",
      "execution_count": null,
      "metadata": {
        "colab": {
          "base_uri": "https://localhost:8080/"
        },
        "id": "P3IDXO4l9Q5y",
        "outputId": "fa78c7f2-ef4d-458f-fd0d-4716a0919a85"
      },
      "outputs": [
        {
          "output_type": "stream",
          "name": "stdout",
          "text": [
            "Проверка для  247 и 248, событие: MainScreenAppear, p-значение: 0.49\n",
            "Статистически значимая разница не обнаружена\n",
            "\n",
            "Проверка для  247 и 248, событие: OffersScreenAppear, p-значение: 0.82\n",
            "Статистически значимая разница не обнаружена\n",
            "\n",
            "Проверка для  247 и 248, событие: CartScreenAppear, p-значение: 0.57\n",
            "Статистически значимая разница не обнаружена\n",
            "\n",
            "Проверка для  247 и 248, событие: PaymentScreenSuccessful, p-значение: 0.70\n",
            "Статистически значимая разница не обнаружена\n",
            "\n"
          ]
        }
      ],
      "source": [
        "for event in all_funnels.index:\n",
        "    z_test(247, 248, event, 0.05)\n",
        "    print()"
      ]
    },
    {
      "cell_type": "code",
      "execution_count": null,
      "metadata": {
        "colab": {
          "base_uri": "https://localhost:8080/"
        },
        "id": "_ztb_bOr9T_S",
        "outputId": "84f3bc18-ae2e-4472-cd84-811eec989ab2"
      },
      "outputs": [
        {
          "output_type": "stream",
          "name": "stdout",
          "text": [
            "Проверка для  246+247 и 248, событие: MainScreenAppear, p-значение: 0.78\n",
            "Статистически значимая разница не обнаружена\n",
            "\n",
            "Проверка для  246+247 и 248, событие: OffersScreenAppear, p-значение: 0.41\n",
            "Статистически значимая разница не обнаружена\n",
            "\n",
            "Проверка для  246+247 и 248, событие: CartScreenAppear, p-значение: 0.20\n",
            "Статистически значимая разница не обнаружена\n",
            "\n",
            "Проверка для  246+247 и 248, событие: PaymentScreenSuccessful, p-значение: 0.69\n",
            "Статистически значимая разница не обнаружена\n",
            "\n"
          ]
        }
      ],
      "source": [
        "for event in all_funnels.index:\n",
        "    z_test('246+247', 248, event, 0.05)\n",
        "    print()"
      ]
    },
    {
      "cell_type": "markdown",
      "metadata": {
        "id": "FwQNggAY9VQi"
      },
      "source": [
        "Вывод о различии долей сделать нельзя"
      ]
    },
    {
      "cell_type": "markdown",
      "metadata": {
        "id": "_7nTEKSk9YCa"
      },
      "source": [
        "**5) Какой уровень значимости выбрали при проверке статистических гипотез выше?**\n",
        "\n",
        "Посчитайте, сколько проверок статистических гипотез вы сделали. При уровне значимости 0.1 каждый десятый раз можно получать ложный результат. Какой уровень значимости стоит применить? Если вы хотите изменить его, проделайте предыдущие пункты и проверьте свои выводы\n",
        "\n",
        "Критерий в 5%.\n",
        "\n",
        "4 AA теста и 12 (4 А1-В, 4 А2-В, 4 А(1+2)-В) AB тестов."
      ]
    },
    {
      "cell_type": "markdown",
      "metadata": {
        "id": "U2_0niUD6TMV"
      },
      "source": [
        "**ОБЩИЙ ВЫВОД**\n",
        "\n",
        "Статистический анализ дал схожий результат с наглядным отображением путём построения воронки: значимых различий между группами не обнаружено, изменение шрифта дизайна существенных изменений не приносит. "
      ]
    }
  ],
  "metadata": {
    "ExecuteTimeLog": [
      {
        "duration": 10,
        "start_time": "2022-05-12T12:30:13.920Z"
      },
      {
        "duration": 1655,
        "start_time": "2022-05-12T12:30:13.933Z"
      },
      {
        "duration": 6,
        "start_time": "2022-05-12T12:30:15.590Z"
      },
      {
        "duration": 91,
        "start_time": "2022-05-12T12:30:15.598Z"
      },
      {
        "duration": 119,
        "start_time": "2022-05-12T12:30:15.692Z"
      },
      {
        "duration": 0,
        "start_time": "2022-05-12T12:30:15.814Z"
      },
      {
        "duration": 0,
        "start_time": "2022-05-12T12:30:15.815Z"
      },
      {
        "duration": 0,
        "start_time": "2022-05-12T12:30:15.816Z"
      },
      {
        "duration": 0,
        "start_time": "2022-05-12T12:30:15.818Z"
      },
      {
        "duration": 0,
        "start_time": "2022-05-12T12:30:15.819Z"
      },
      {
        "duration": 0,
        "start_time": "2022-05-12T12:30:15.820Z"
      },
      {
        "duration": 0,
        "start_time": "2022-05-12T12:30:15.821Z"
      },
      {
        "duration": 0,
        "start_time": "2022-05-12T12:30:15.822Z"
      },
      {
        "duration": 0,
        "start_time": "2022-05-12T12:30:15.839Z"
      },
      {
        "duration": 0,
        "start_time": "2022-05-12T12:30:15.841Z"
      },
      {
        "duration": 0,
        "start_time": "2022-05-12T12:30:15.842Z"
      },
      {
        "duration": 0,
        "start_time": "2022-05-12T12:30:15.844Z"
      },
      {
        "duration": 0,
        "start_time": "2022-05-12T12:30:15.845Z"
      },
      {
        "duration": 0,
        "start_time": "2022-05-12T12:30:15.846Z"
      },
      {
        "duration": 0,
        "start_time": "2022-05-12T12:30:15.847Z"
      },
      {
        "duration": 0,
        "start_time": "2022-05-12T12:30:15.848Z"
      },
      {
        "duration": 0,
        "start_time": "2022-05-12T12:30:15.849Z"
      },
      {
        "duration": 0,
        "start_time": "2022-05-12T12:30:15.851Z"
      },
      {
        "duration": 0,
        "start_time": "2022-05-12T12:30:15.853Z"
      },
      {
        "duration": 0,
        "start_time": "2022-05-12T12:30:15.854Z"
      },
      {
        "duration": 0,
        "start_time": "2022-05-12T12:30:15.856Z"
      },
      {
        "duration": 0,
        "start_time": "2022-05-12T12:30:15.857Z"
      },
      {
        "duration": 0,
        "start_time": "2022-05-12T12:30:15.858Z"
      },
      {
        "duration": 0,
        "start_time": "2022-05-12T12:30:15.860Z"
      },
      {
        "duration": 0,
        "start_time": "2022-05-12T12:30:15.861Z"
      },
      {
        "duration": 0,
        "start_time": "2022-05-12T12:30:15.863Z"
      },
      {
        "duration": 0,
        "start_time": "2022-05-12T12:30:15.864Z"
      },
      {
        "duration": 0,
        "start_time": "2022-05-12T12:30:15.866Z"
      },
      {
        "duration": 1,
        "start_time": "2022-05-12T12:30:15.867Z"
      },
      {
        "duration": 1,
        "start_time": "2022-05-12T12:30:15.869Z"
      },
      {
        "duration": 0,
        "start_time": "2022-05-12T12:30:15.871Z"
      },
      {
        "duration": 0,
        "start_time": "2022-05-12T12:30:15.873Z"
      },
      {
        "duration": 0,
        "start_time": "2022-05-12T12:30:15.874Z"
      },
      {
        "duration": 0,
        "start_time": "2022-05-12T12:30:15.938Z"
      },
      {
        "duration": 0,
        "start_time": "2022-05-12T12:30:15.939Z"
      },
      {
        "duration": 0,
        "start_time": "2022-05-12T12:30:15.940Z"
      },
      {
        "duration": 0,
        "start_time": "2022-05-12T12:30:15.941Z"
      },
      {
        "duration": 0,
        "start_time": "2022-05-12T12:30:15.942Z"
      },
      {
        "duration": 0,
        "start_time": "2022-05-12T12:30:15.943Z"
      },
      {
        "duration": 20,
        "start_time": "2022-05-12T12:31:35.832Z"
      },
      {
        "duration": 1416,
        "start_time": "2022-05-12T12:31:35.854Z"
      },
      {
        "duration": 6,
        "start_time": "2022-05-12T12:31:37.271Z"
      },
      {
        "duration": 180,
        "start_time": "2022-05-12T12:31:37.280Z"
      },
      {
        "duration": 12,
        "start_time": "2022-05-12T12:31:37.462Z"
      },
      {
        "duration": 24,
        "start_time": "2022-05-12T12:31:37.476Z"
      },
      {
        "duration": 40,
        "start_time": "2022-05-12T12:31:37.502Z"
      },
      {
        "duration": 82,
        "start_time": "2022-05-12T12:31:37.547Z"
      },
      {
        "duration": 10,
        "start_time": "2022-05-12T12:31:37.632Z"
      },
      {
        "duration": 122,
        "start_time": "2022-05-12T12:31:37.646Z"
      },
      {
        "duration": 101,
        "start_time": "2022-05-12T12:31:37.770Z"
      },
      {
        "duration": 133,
        "start_time": "2022-05-12T12:31:37.873Z"
      },
      {
        "duration": 73,
        "start_time": "2022-05-12T12:31:38.008Z"
      },
      {
        "duration": 10,
        "start_time": "2022-05-12T12:31:38.083Z"
      },
      {
        "duration": 47,
        "start_time": "2022-05-12T12:31:38.095Z"
      },
      {
        "duration": 12,
        "start_time": "2022-05-12T12:31:38.144Z"
      },
      {
        "duration": 13,
        "start_time": "2022-05-12T12:31:38.158Z"
      },
      {
        "duration": 8,
        "start_time": "2022-05-12T12:31:38.173Z"
      },
      {
        "duration": 6,
        "start_time": "2022-05-12T12:31:38.183Z"
      },
      {
        "duration": 7,
        "start_time": "2022-05-12T12:31:38.191Z"
      },
      {
        "duration": 4,
        "start_time": "2022-05-12T12:31:38.200Z"
      },
      {
        "duration": 35,
        "start_time": "2022-05-12T12:31:38.238Z"
      },
      {
        "duration": 521,
        "start_time": "2022-05-12T12:31:38.276Z"
      },
      {
        "duration": 19,
        "start_time": "2022-05-12T12:31:38.800Z"
      },
      {
        "duration": 68,
        "start_time": "2022-05-12T12:31:38.835Z"
      },
      {
        "duration": 32,
        "start_time": "2022-05-12T12:31:38.905Z"
      },
      {
        "duration": 15,
        "start_time": "2022-05-12T12:31:38.939Z"
      },
      {
        "duration": 37,
        "start_time": "2022-05-12T12:31:38.956Z"
      },
      {
        "duration": 60,
        "start_time": "2022-05-12T12:31:38.995Z"
      },
      {
        "duration": 64,
        "start_time": "2022-05-12T12:31:39.057Z"
      },
      {
        "duration": 23,
        "start_time": "2022-05-12T12:31:39.123Z"
      },
      {
        "duration": 246,
        "start_time": "2022-05-12T12:31:39.147Z"
      },
      {
        "duration": 52,
        "start_time": "2022-05-12T12:31:39.397Z"
      },
      {
        "duration": 117,
        "start_time": "2022-05-12T12:31:39.450Z"
      },
      {
        "duration": 8,
        "start_time": "2022-05-12T12:31:39.569Z"
      },
      {
        "duration": 104,
        "start_time": "2022-05-12T12:31:39.579Z"
      },
      {
        "duration": 110,
        "start_time": "2022-05-12T12:31:39.685Z"
      },
      {
        "duration": 7,
        "start_time": "2022-05-12T12:31:39.797Z"
      },
      {
        "duration": 13,
        "start_time": "2022-05-12T12:31:39.806Z"
      },
      {
        "duration": 32,
        "start_time": "2022-05-12T12:31:39.821Z"
      },
      {
        "duration": 19,
        "start_time": "2022-05-12T12:31:39.855Z"
      },
      {
        "duration": 21,
        "start_time": "2022-05-12T12:31:39.876Z"
      },
      {
        "duration": 16,
        "start_time": "2022-05-12T12:31:39.899Z"
      },
      {
        "duration": 28,
        "start_time": "2022-05-12T12:31:39.918Z"
      },
      {
        "duration": 209,
        "start_time": "2022-05-12T13:26:14.398Z"
      },
      {
        "duration": 21,
        "start_time": "2022-05-12T13:26:35.700Z"
      },
      {
        "duration": 12,
        "start_time": "2022-05-12T13:26:41.016Z"
      },
      {
        "duration": 10,
        "start_time": "2022-05-12T14:02:21.499Z"
      },
      {
        "duration": 1340,
        "start_time": "2022-05-12T14:02:21.511Z"
      },
      {
        "duration": 5,
        "start_time": "2022-05-12T14:02:22.853Z"
      },
      {
        "duration": 185,
        "start_time": "2022-05-12T14:02:22.860Z"
      },
      {
        "duration": 12,
        "start_time": "2022-05-12T14:02:23.047Z"
      },
      {
        "duration": 26,
        "start_time": "2022-05-12T14:02:23.061Z"
      },
      {
        "duration": 17,
        "start_time": "2022-05-12T14:02:23.089Z"
      },
      {
        "duration": 99,
        "start_time": "2022-05-12T14:02:23.108Z"
      },
      {
        "duration": 9,
        "start_time": "2022-05-12T14:02:23.209Z"
      },
      {
        "duration": 115,
        "start_time": "2022-05-12T14:02:23.220Z"
      },
      {
        "duration": 103,
        "start_time": "2022-05-12T14:02:23.337Z"
      },
      {
        "duration": 118,
        "start_time": "2022-05-12T14:02:23.443Z"
      },
      {
        "duration": 37,
        "start_time": "2022-05-12T14:02:23.563Z"
      },
      {
        "duration": 9,
        "start_time": "2022-05-12T14:02:23.602Z"
      },
      {
        "duration": 33,
        "start_time": "2022-05-12T14:02:23.640Z"
      },
      {
        "duration": 8,
        "start_time": "2022-05-12T14:02:23.675Z"
      },
      {
        "duration": 14,
        "start_time": "2022-05-12T14:02:23.684Z"
      },
      {
        "duration": 8,
        "start_time": "2022-05-12T14:02:23.700Z"
      },
      {
        "duration": 5,
        "start_time": "2022-05-12T14:02:23.709Z"
      },
      {
        "duration": 38,
        "start_time": "2022-05-12T14:02:23.716Z"
      },
      {
        "duration": 8,
        "start_time": "2022-05-12T14:02:23.756Z"
      },
      {
        "duration": 32,
        "start_time": "2022-05-12T14:02:23.765Z"
      },
      {
        "duration": 461,
        "start_time": "2022-05-12T14:02:23.800Z"
      },
      {
        "duration": 15,
        "start_time": "2022-05-12T14:02:24.264Z"
      },
      {
        "duration": 80,
        "start_time": "2022-05-12T14:02:24.281Z"
      },
      {
        "duration": 14,
        "start_time": "2022-05-12T14:02:24.363Z"
      },
      {
        "duration": 12,
        "start_time": "2022-05-12T14:02:24.379Z"
      },
      {
        "duration": 68,
        "start_time": "2022-05-12T14:02:24.393Z"
      },
      {
        "duration": 34,
        "start_time": "2022-05-12T14:02:24.463Z"
      },
      {
        "duration": 86,
        "start_time": "2022-05-12T14:02:24.499Z"
      },
      {
        "duration": 9,
        "start_time": "2022-05-12T14:02:24.587Z"
      },
      {
        "duration": 252,
        "start_time": "2022-05-12T14:02:24.598Z"
      },
      {
        "duration": 87,
        "start_time": "2022-05-12T14:02:24.851Z"
      },
      {
        "duration": 99,
        "start_time": "2022-05-12T14:02:24.941Z"
      },
      {
        "duration": 8,
        "start_time": "2022-05-12T14:02:25.043Z"
      },
      {
        "duration": 58,
        "start_time": "2022-05-12T14:02:25.053Z"
      },
      {
        "duration": 106,
        "start_time": "2022-05-12T14:02:25.113Z"
      },
      {
        "duration": 7,
        "start_time": "2022-05-12T14:02:25.221Z"
      },
      {
        "duration": 28,
        "start_time": "2022-05-12T14:02:25.232Z"
      },
      {
        "duration": 10,
        "start_time": "2022-05-12T14:02:25.262Z"
      },
      {
        "duration": 35,
        "start_time": "2022-05-12T14:02:25.274Z"
      },
      {
        "duration": 15,
        "start_time": "2022-05-12T14:02:25.311Z"
      },
      {
        "duration": 13,
        "start_time": "2022-05-12T14:02:25.327Z"
      },
      {
        "duration": 23,
        "start_time": "2022-05-12T14:02:25.342Z"
      },
      {
        "duration": 10,
        "start_time": "2022-05-13T05:56:51.087Z"
      },
      {
        "duration": 1634,
        "start_time": "2022-05-13T05:56:51.099Z"
      },
      {
        "duration": 11,
        "start_time": "2022-05-13T05:56:52.736Z"
      },
      {
        "duration": 186,
        "start_time": "2022-05-13T05:56:52.751Z"
      },
      {
        "duration": 21,
        "start_time": "2022-05-13T05:56:52.940Z"
      },
      {
        "duration": 23,
        "start_time": "2022-05-13T05:56:52.963Z"
      },
      {
        "duration": 18,
        "start_time": "2022-05-13T05:56:52.988Z"
      },
      {
        "duration": 80,
        "start_time": "2022-05-13T05:56:53.035Z"
      },
      {
        "duration": 30,
        "start_time": "2022-05-13T05:56:53.116Z"
      },
      {
        "duration": 130,
        "start_time": "2022-05-13T05:56:53.148Z"
      },
      {
        "duration": 106,
        "start_time": "2022-05-13T05:56:53.280Z"
      },
      {
        "duration": 137,
        "start_time": "2022-05-13T05:56:53.388Z"
      },
      {
        "duration": 58,
        "start_time": "2022-05-13T05:56:53.526Z"
      },
      {
        "duration": 9,
        "start_time": "2022-05-13T05:56:53.587Z"
      },
      {
        "duration": 64,
        "start_time": "2022-05-13T05:56:53.598Z"
      },
      {
        "duration": 8,
        "start_time": "2022-05-13T05:56:53.665Z"
      },
      {
        "duration": 8,
        "start_time": "2022-05-13T05:56:53.674Z"
      },
      {
        "duration": 13,
        "start_time": "2022-05-13T05:56:53.684Z"
      },
      {
        "duration": 15,
        "start_time": "2022-05-13T05:56:53.699Z"
      },
      {
        "duration": 12,
        "start_time": "2022-05-13T05:56:53.715Z"
      },
      {
        "duration": 6,
        "start_time": "2022-05-13T05:56:53.735Z"
      },
      {
        "duration": 36,
        "start_time": "2022-05-13T05:56:53.745Z"
      },
      {
        "duration": 543,
        "start_time": "2022-05-13T05:56:53.783Z"
      },
      {
        "duration": 28,
        "start_time": "2022-05-13T05:56:54.328Z"
      },
      {
        "duration": 56,
        "start_time": "2022-05-13T05:56:54.359Z"
      },
      {
        "duration": 22,
        "start_time": "2022-05-13T05:56:54.438Z"
      },
      {
        "duration": 11,
        "start_time": "2022-05-13T05:56:54.461Z"
      },
      {
        "duration": 62,
        "start_time": "2022-05-13T05:56:54.473Z"
      },
      {
        "duration": 42,
        "start_time": "2022-05-13T05:56:54.539Z"
      },
      {
        "duration": 89,
        "start_time": "2022-05-13T05:56:54.583Z"
      },
      {
        "duration": 7,
        "start_time": "2022-05-13T05:56:54.673Z"
      },
      {
        "duration": 242,
        "start_time": "2022-05-13T05:56:54.682Z"
      },
      {
        "duration": 48,
        "start_time": "2022-05-13T05:56:54.926Z"
      },
      {
        "duration": 164,
        "start_time": "2022-05-13T05:56:54.976Z"
      },
      {
        "duration": 14,
        "start_time": "2022-05-13T05:56:55.143Z"
      },
      {
        "duration": 98,
        "start_time": "2022-05-13T05:56:55.160Z"
      },
      {
        "duration": 101,
        "start_time": "2022-05-13T05:56:55.260Z"
      },
      {
        "duration": 7,
        "start_time": "2022-05-13T05:56:55.362Z"
      },
      {
        "duration": 15,
        "start_time": "2022-05-13T05:56:55.371Z"
      },
      {
        "duration": 6,
        "start_time": "2022-05-13T05:56:55.387Z"
      },
      {
        "duration": 14,
        "start_time": "2022-05-13T05:56:55.396Z"
      },
      {
        "duration": 31,
        "start_time": "2022-05-13T05:56:55.412Z"
      },
      {
        "duration": 14,
        "start_time": "2022-05-13T05:56:55.444Z"
      },
      {
        "duration": 13,
        "start_time": "2022-05-13T05:56:55.460Z"
      }
    ],
    "colab": {
      "collapsed_sections": [],
      "name": "d5afbe29-50e7-47ce-bd70-e96364271884.ipynb",
      "provenance": []
    },
    "kernelspec": {
      "display_name": "Python 3 (ipykernel)",
      "language": "python",
      "name": "python3"
    },
    "language_info": {
      "codemirror_mode": {
        "name": "ipython",
        "version": 3
      },
      "file_extension": ".py",
      "mimetype": "text/x-python",
      "name": "python",
      "nbconvert_exporter": "python",
      "pygments_lexer": "ipython3",
      "version": "3.9.5"
    },
    "toc": {
      "base_numbering": 1,
      "nav_menu": {},
      "number_sections": true,
      "sideBar": true,
      "skip_h1_title": true,
      "title_cell": "Table of Contents",
      "title_sidebar": "Contents",
      "toc_cell": false,
      "toc_position": {},
      "toc_section_display": true,
      "toc_window_display": true
    }
  },
  "nbformat": 4,
  "nbformat_minor": 0
}